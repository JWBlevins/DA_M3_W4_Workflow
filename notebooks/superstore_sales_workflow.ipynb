{
  "cells": [
    {
      "cell_type": "markdown",
      "metadata": {},
      "source": [
        "# Superstore Sales Workflow Tutorial\n",
        "\n",
        "This notebook walks through cleaning the Superstore dataset, designing a relational structure, creating an SQLite database, and running example SQL queries and visualizations."
      ]
    },
    {
      "cell_type": "code",
      "execution_count": 1,
      "metadata": {},
      "outputs": [],
      "source": [
        "import pandas as pd\n",
        "import sqlite3\n",
        "import matplotlib.pyplot as plt\n",
        "import seaborn as sns\n",
        "import matplotlib.ticker as mticker\n"
      ]
    },
    {
      "cell_type": "markdown",
      "metadata": {},
      "source": [
        "## 1️) Load and Inspect the Dataset"
      ]
    },
    {
      "cell_type": "code",
      "execution_count": 2,
      "metadata": {},
      "outputs": [
        {
          "data": {
            "application/vnd.microsoft.datawrangler.viewer.v0+json": {
              "columns": [
                {
                  "name": "index",
                  "rawType": "int64",
                  "type": "integer"
                },
                {
                  "name": "Row ID",
                  "rawType": "int64",
                  "type": "integer"
                },
                {
                  "name": "Order ID",
                  "rawType": "object",
                  "type": "string"
                },
                {
                  "name": "Order Date",
                  "rawType": "object",
                  "type": "string"
                },
                {
                  "name": "Ship Date",
                  "rawType": "object",
                  "type": "string"
                },
                {
                  "name": "Ship Mode",
                  "rawType": "object",
                  "type": "string"
                },
                {
                  "name": "Customer ID",
                  "rawType": "object",
                  "type": "string"
                },
                {
                  "name": "Customer Name",
                  "rawType": "object",
                  "type": "string"
                },
                {
                  "name": "Segment",
                  "rawType": "object",
                  "type": "string"
                },
                {
                  "name": "Country",
                  "rawType": "object",
                  "type": "string"
                },
                {
                  "name": "City",
                  "rawType": "object",
                  "type": "string"
                },
                {
                  "name": "State",
                  "rawType": "object",
                  "type": "string"
                },
                {
                  "name": "Postal Code",
                  "rawType": "int64",
                  "type": "integer"
                },
                {
                  "name": "Region",
                  "rawType": "object",
                  "type": "string"
                },
                {
                  "name": "Product ID",
                  "rawType": "object",
                  "type": "string"
                },
                {
                  "name": "Category",
                  "rawType": "object",
                  "type": "string"
                },
                {
                  "name": "Sub-Category",
                  "rawType": "object",
                  "type": "string"
                },
                {
                  "name": "Product Name",
                  "rawType": "object",
                  "type": "string"
                },
                {
                  "name": "Sales",
                  "rawType": "float64",
                  "type": "float"
                },
                {
                  "name": "Quantity",
                  "rawType": "int64",
                  "type": "integer"
                },
                {
                  "name": "Discount",
                  "rawType": "float64",
                  "type": "float"
                },
                {
                  "name": "Profit",
                  "rawType": "float64",
                  "type": "float"
                }
              ],
              "ref": "a381039d-1ce2-4159-a2e2-66f55c4cc44d",
              "rows": [
                [
                  "0",
                  "1",
                  "CA-2013-152156",
                  "09-11-2013",
                  "12-11-2013",
                  "Second Class",
                  "CG-12520",
                  "Claire Gute",
                  "Consumer",
                  "United States",
                  "Henderson",
                  "Kentucky",
                  "42420",
                  "South",
                  "FUR-BO-10001798",
                  "Furniture",
                  "Bookcases",
                  "Bush Somerset Collection Bookcase",
                  "261.96",
                  "2",
                  "0.0",
                  "41.9136"
                ],
                [
                  "1",
                  "2",
                  "CA-2013-152156",
                  "09-11-2013",
                  "12-11-2013",
                  "Second Class",
                  "CG-12520",
                  "Claire Gute",
                  "Consumer",
                  "United States",
                  "Henderson",
                  "Kentucky",
                  "42420",
                  "South",
                  "FUR-CH-10000454",
                  "Furniture",
                  "Chairs",
                  "Hon Deluxe Fabric Upholstered Stacking Chairs, Rounded Back",
                  "731.94",
                  "3",
                  "0.0",
                  "219.582"
                ],
                [
                  "2",
                  "3",
                  "CA-2013-138688",
                  "13-06-2013",
                  "17-06-2013",
                  "Second Class",
                  "DV-13045",
                  "Darrin Van Huff",
                  "Corporate",
                  "United States",
                  "Los Angeles",
                  "California",
                  "90036",
                  "West",
                  "OFF-LA-10000240",
                  "Office Supplies",
                  "Labels",
                  "Self-Adhesive Address Labels for Typewriters by Universal",
                  "14.62",
                  "2",
                  "0.0",
                  "6.8714"
                ],
                [
                  "3",
                  "4",
                  "US-2012-108966",
                  "11-10-2012",
                  "18-10-2012",
                  "Standard Class",
                  "SO-20335",
                  "Sean O'Donnell",
                  "Consumer",
                  "United States",
                  "Fort Lauderdale",
                  "Florida",
                  "33311",
                  "South",
                  "FUR-TA-10000577",
                  "Furniture",
                  "Tables",
                  "Bretford CR4500 Series Slim Rectangular Table",
                  "957.5775",
                  "5",
                  "0.45",
                  "-383.031"
                ],
                [
                  "4",
                  "5",
                  "US-2012-108966",
                  "11-10-2012",
                  "18-10-2012",
                  "Standard Class",
                  "SO-20335",
                  "Sean O'Donnell",
                  "Consumer",
                  "United States",
                  "Fort Lauderdale",
                  "Florida",
                  "33311",
                  "South",
                  "OFF-ST-10000760",
                  "Office Supplies",
                  "Storage",
                  "Eldon Fold 'N Roll Cart System",
                  "22.368",
                  "2",
                  "0.2",
                  "2.5164"
                ]
              ],
              "shape": {
                "columns": 21,
                "rows": 5
              }
            },
            "text/html": [
              "<div>\n",
              "<style scoped>\n",
              "    .dataframe tbody tr th:only-of-type {\n",
              "        vertical-align: middle;\n",
              "    }\n",
              "\n",
              "    .dataframe tbody tr th {\n",
              "        vertical-align: top;\n",
              "    }\n",
              "\n",
              "    .dataframe thead th {\n",
              "        text-align: right;\n",
              "    }\n",
              "</style>\n",
              "<table border=\"1\" class=\"dataframe\">\n",
              "  <thead>\n",
              "    <tr style=\"text-align: right;\">\n",
              "      <th></th>\n",
              "      <th>Row ID</th>\n",
              "      <th>Order ID</th>\n",
              "      <th>Order Date</th>\n",
              "      <th>Ship Date</th>\n",
              "      <th>Ship Mode</th>\n",
              "      <th>Customer ID</th>\n",
              "      <th>Customer Name</th>\n",
              "      <th>Segment</th>\n",
              "      <th>Country</th>\n",
              "      <th>City</th>\n",
              "      <th>...</th>\n",
              "      <th>Postal Code</th>\n",
              "      <th>Region</th>\n",
              "      <th>Product ID</th>\n",
              "      <th>Category</th>\n",
              "      <th>Sub-Category</th>\n",
              "      <th>Product Name</th>\n",
              "      <th>Sales</th>\n",
              "      <th>Quantity</th>\n",
              "      <th>Discount</th>\n",
              "      <th>Profit</th>\n",
              "    </tr>\n",
              "  </thead>\n",
              "  <tbody>\n",
              "    <tr>\n",
              "      <th>0</th>\n",
              "      <td>1</td>\n",
              "      <td>CA-2013-152156</td>\n",
              "      <td>09-11-2013</td>\n",
              "      <td>12-11-2013</td>\n",
              "      <td>Second Class</td>\n",
              "      <td>CG-12520</td>\n",
              "      <td>Claire Gute</td>\n",
              "      <td>Consumer</td>\n",
              "      <td>United States</td>\n",
              "      <td>Henderson</td>\n",
              "      <td>...</td>\n",
              "      <td>42420</td>\n",
              "      <td>South</td>\n",
              "      <td>FUR-BO-10001798</td>\n",
              "      <td>Furniture</td>\n",
              "      <td>Bookcases</td>\n",
              "      <td>Bush Somerset Collection Bookcase</td>\n",
              "      <td>261.9600</td>\n",
              "      <td>2</td>\n",
              "      <td>0.00</td>\n",
              "      <td>41.9136</td>\n",
              "    </tr>\n",
              "    <tr>\n",
              "      <th>1</th>\n",
              "      <td>2</td>\n",
              "      <td>CA-2013-152156</td>\n",
              "      <td>09-11-2013</td>\n",
              "      <td>12-11-2013</td>\n",
              "      <td>Second Class</td>\n",
              "      <td>CG-12520</td>\n",
              "      <td>Claire Gute</td>\n",
              "      <td>Consumer</td>\n",
              "      <td>United States</td>\n",
              "      <td>Henderson</td>\n",
              "      <td>...</td>\n",
              "      <td>42420</td>\n",
              "      <td>South</td>\n",
              "      <td>FUR-CH-10000454</td>\n",
              "      <td>Furniture</td>\n",
              "      <td>Chairs</td>\n",
              "      <td>Hon Deluxe Fabric Upholstered Stacking Chairs,...</td>\n",
              "      <td>731.9400</td>\n",
              "      <td>3</td>\n",
              "      <td>0.00</td>\n",
              "      <td>219.5820</td>\n",
              "    </tr>\n",
              "    <tr>\n",
              "      <th>2</th>\n",
              "      <td>3</td>\n",
              "      <td>CA-2013-138688</td>\n",
              "      <td>13-06-2013</td>\n",
              "      <td>17-06-2013</td>\n",
              "      <td>Second Class</td>\n",
              "      <td>DV-13045</td>\n",
              "      <td>Darrin Van Huff</td>\n",
              "      <td>Corporate</td>\n",
              "      <td>United States</td>\n",
              "      <td>Los Angeles</td>\n",
              "      <td>...</td>\n",
              "      <td>90036</td>\n",
              "      <td>West</td>\n",
              "      <td>OFF-LA-10000240</td>\n",
              "      <td>Office Supplies</td>\n",
              "      <td>Labels</td>\n",
              "      <td>Self-Adhesive Address Labels for Typewriters b...</td>\n",
              "      <td>14.6200</td>\n",
              "      <td>2</td>\n",
              "      <td>0.00</td>\n",
              "      <td>6.8714</td>\n",
              "    </tr>\n",
              "    <tr>\n",
              "      <th>3</th>\n",
              "      <td>4</td>\n",
              "      <td>US-2012-108966</td>\n",
              "      <td>11-10-2012</td>\n",
              "      <td>18-10-2012</td>\n",
              "      <td>Standard Class</td>\n",
              "      <td>SO-20335</td>\n",
              "      <td>Sean O'Donnell</td>\n",
              "      <td>Consumer</td>\n",
              "      <td>United States</td>\n",
              "      <td>Fort Lauderdale</td>\n",
              "      <td>...</td>\n",
              "      <td>33311</td>\n",
              "      <td>South</td>\n",
              "      <td>FUR-TA-10000577</td>\n",
              "      <td>Furniture</td>\n",
              "      <td>Tables</td>\n",
              "      <td>Bretford CR4500 Series Slim Rectangular Table</td>\n",
              "      <td>957.5775</td>\n",
              "      <td>5</td>\n",
              "      <td>0.45</td>\n",
              "      <td>-383.0310</td>\n",
              "    </tr>\n",
              "    <tr>\n",
              "      <th>4</th>\n",
              "      <td>5</td>\n",
              "      <td>US-2012-108966</td>\n",
              "      <td>11-10-2012</td>\n",
              "      <td>18-10-2012</td>\n",
              "      <td>Standard Class</td>\n",
              "      <td>SO-20335</td>\n",
              "      <td>Sean O'Donnell</td>\n",
              "      <td>Consumer</td>\n",
              "      <td>United States</td>\n",
              "      <td>Fort Lauderdale</td>\n",
              "      <td>...</td>\n",
              "      <td>33311</td>\n",
              "      <td>South</td>\n",
              "      <td>OFF-ST-10000760</td>\n",
              "      <td>Office Supplies</td>\n",
              "      <td>Storage</td>\n",
              "      <td>Eldon Fold 'N Roll Cart System</td>\n",
              "      <td>22.3680</td>\n",
              "      <td>2</td>\n",
              "      <td>0.20</td>\n",
              "      <td>2.5164</td>\n",
              "    </tr>\n",
              "  </tbody>\n",
              "</table>\n",
              "<p>5 rows × 21 columns</p>\n",
              "</div>"
            ],
            "text/plain": [
              "   Row ID        Order ID  Order Date   Ship Date       Ship Mode Customer ID  \\\n",
              "0       1  CA-2013-152156  09-11-2013  12-11-2013    Second Class    CG-12520   \n",
              "1       2  CA-2013-152156  09-11-2013  12-11-2013    Second Class    CG-12520   \n",
              "2       3  CA-2013-138688  13-06-2013  17-06-2013    Second Class    DV-13045   \n",
              "3       4  US-2012-108966  11-10-2012  18-10-2012  Standard Class    SO-20335   \n",
              "4       5  US-2012-108966  11-10-2012  18-10-2012  Standard Class    SO-20335   \n",
              "\n",
              "     Customer Name    Segment        Country             City  ...  \\\n",
              "0      Claire Gute   Consumer  United States        Henderson  ...   \n",
              "1      Claire Gute   Consumer  United States        Henderson  ...   \n",
              "2  Darrin Van Huff  Corporate  United States      Los Angeles  ...   \n",
              "3   Sean O'Donnell   Consumer  United States  Fort Lauderdale  ...   \n",
              "4   Sean O'Donnell   Consumer  United States  Fort Lauderdale  ...   \n",
              "\n",
              "  Postal Code  Region       Product ID         Category Sub-Category  \\\n",
              "0       42420   South  FUR-BO-10001798        Furniture    Bookcases   \n",
              "1       42420   South  FUR-CH-10000454        Furniture       Chairs   \n",
              "2       90036    West  OFF-LA-10000240  Office Supplies       Labels   \n",
              "3       33311   South  FUR-TA-10000577        Furniture       Tables   \n",
              "4       33311   South  OFF-ST-10000760  Office Supplies      Storage   \n",
              "\n",
              "                                        Product Name     Sales  Quantity  \\\n",
              "0                  Bush Somerset Collection Bookcase  261.9600         2   \n",
              "1  Hon Deluxe Fabric Upholstered Stacking Chairs,...  731.9400         3   \n",
              "2  Self-Adhesive Address Labels for Typewriters b...   14.6200         2   \n",
              "3      Bretford CR4500 Series Slim Rectangular Table  957.5775         5   \n",
              "4                     Eldon Fold 'N Roll Cart System   22.3680         2   \n",
              "\n",
              "   Discount    Profit  \n",
              "0      0.00   41.9136  \n",
              "1      0.00  219.5820  \n",
              "2      0.00    6.8714  \n",
              "3      0.45 -383.0310  \n",
              "4      0.20    2.5164  \n",
              "\n",
              "[5 rows x 21 columns]"
            ]
          },
          "execution_count": 2,
          "metadata": {},
          "output_type": "execute_result"
        }
      ],
      "source": [
        "# reading error codes + research is how you can learn if there is different encoding, as seen below\n",
        "df = pd.read_csv('../data/Superstore.csv', encoding='ISO-8859-1')\n",
        "df.head()"
      ]
    },
    {
      "cell_type": "code",
      "execution_count": 3,
      "id": "6d3c549e",
      "metadata": {},
      "outputs": [
        {
          "data": {
            "application/vnd.microsoft.datawrangler.viewer.v0+json": {
              "columns": [
                {
                  "name": "index",
                  "rawType": "object",
                  "type": "string"
                },
                {
                  "name": "0",
                  "rawType": "object",
                  "type": "unknown"
                }
              ],
              "ref": "8758d239-50d7-40b3-bdf4-d7fe7f9e0b7e",
              "rows": [
                [
                  "Row ID",
                  "int64"
                ],
                [
                  "Order ID",
                  "object"
                ],
                [
                  "Order Date",
                  "datetime64[ns]"
                ],
                [
                  "Ship Date",
                  "datetime64[ns]"
                ],
                [
                  "Ship Mode",
                  "object"
                ],
                [
                  "Customer ID",
                  "object"
                ],
                [
                  "Customer Name",
                  "object"
                ],
                [
                  "Segment",
                  "object"
                ],
                [
                  "Country",
                  "object"
                ],
                [
                  "City",
                  "object"
                ],
                [
                  "State",
                  "object"
                ],
                [
                  "Postal Code",
                  "int64"
                ],
                [
                  "Region",
                  "object"
                ],
                [
                  "Product ID",
                  "object"
                ],
                [
                  "Category",
                  "object"
                ],
                [
                  "Sub-Category",
                  "object"
                ],
                [
                  "Product Name",
                  "object"
                ],
                [
                  "Sales",
                  "float64"
                ],
                [
                  "Quantity",
                  "int64"
                ],
                [
                  "Discount",
                  "float64"
                ],
                [
                  "Profit",
                  "float64"
                ]
              ],
              "shape": {
                "columns": 1,
                "rows": 21
              }
            },
            "text/plain": [
              "Row ID                    int64\n",
              "Order ID                 object\n",
              "Order Date       datetime64[ns]\n",
              "Ship Date        datetime64[ns]\n",
              "Ship Mode                object\n",
              "Customer ID              object\n",
              "Customer Name            object\n",
              "Segment                  object\n",
              "Country                  object\n",
              "City                     object\n",
              "State                    object\n",
              "Postal Code               int64\n",
              "Region                   object\n",
              "Product ID               object\n",
              "Category                 object\n",
              "Sub-Category             object\n",
              "Product Name             object\n",
              "Sales                   float64\n",
              "Quantity                  int64\n",
              "Discount                float64\n",
              "Profit                  float64\n",
              "dtype: object"
            ]
          },
          "execution_count": 3,
          "metadata": {},
          "output_type": "execute_result"
        }
      ],
      "source": [
        "df['Order Date'] = pd.to_datetime(df['Order Date'], dayfirst=True)\n",
        "df['Ship Date'] = pd.to_datetime(df['Ship Date'], dayfirst=True)\n",
        "df.dtypes\n"
      ]
    },
    {
      "cell_type": "code",
      "execution_count": 4,
      "id": "aabd51b7",
      "metadata": {},
      "outputs": [
        {
          "data": {
            "application/vnd.microsoft.datawrangler.viewer.v0+json": {
              "columns": [
                {
                  "name": "index",
                  "rawType": "int64",
                  "type": "integer"
                },
                {
                  "name": "Order Date",
                  "rawType": "datetime64[ns]",
                  "type": "datetime"
                },
                {
                  "name": "Ship Date",
                  "rawType": "datetime64[ns]",
                  "type": "datetime"
                }
              ],
              "ref": "eef976fa-05de-4fa7-95e1-f06d02ca2525",
              "rows": [
                [
                  "0",
                  "2013-11-09 00:00:00",
                  "2013-11-12 00:00:00"
                ],
                [
                  "1",
                  "2013-11-09 00:00:00",
                  "2013-11-12 00:00:00"
                ],
                [
                  "2",
                  "2013-06-13 00:00:00",
                  "2013-06-17 00:00:00"
                ],
                [
                  "3",
                  "2012-10-11 00:00:00",
                  "2012-10-18 00:00:00"
                ],
                [
                  "4",
                  "2012-10-11 00:00:00",
                  "2012-10-18 00:00:00"
                ]
              ],
              "shape": {
                "columns": 2,
                "rows": 5
              }
            },
            "text/html": [
              "<div>\n",
              "<style scoped>\n",
              "    .dataframe tbody tr th:only-of-type {\n",
              "        vertical-align: middle;\n",
              "    }\n",
              "\n",
              "    .dataframe tbody tr th {\n",
              "        vertical-align: top;\n",
              "    }\n",
              "\n",
              "    .dataframe thead th {\n",
              "        text-align: right;\n",
              "    }\n",
              "</style>\n",
              "<table border=\"1\" class=\"dataframe\">\n",
              "  <thead>\n",
              "    <tr style=\"text-align: right;\">\n",
              "      <th></th>\n",
              "      <th>Order Date</th>\n",
              "      <th>Ship Date</th>\n",
              "    </tr>\n",
              "  </thead>\n",
              "  <tbody>\n",
              "    <tr>\n",
              "      <th>0</th>\n",
              "      <td>2013-11-09</td>\n",
              "      <td>2013-11-12</td>\n",
              "    </tr>\n",
              "    <tr>\n",
              "      <th>1</th>\n",
              "      <td>2013-11-09</td>\n",
              "      <td>2013-11-12</td>\n",
              "    </tr>\n",
              "    <tr>\n",
              "      <th>2</th>\n",
              "      <td>2013-06-13</td>\n",
              "      <td>2013-06-17</td>\n",
              "    </tr>\n",
              "    <tr>\n",
              "      <th>3</th>\n",
              "      <td>2012-10-11</td>\n",
              "      <td>2012-10-18</td>\n",
              "    </tr>\n",
              "    <tr>\n",
              "      <th>4</th>\n",
              "      <td>2012-10-11</td>\n",
              "      <td>2012-10-18</td>\n",
              "    </tr>\n",
              "  </tbody>\n",
              "</table>\n",
              "</div>"
            ],
            "text/plain": [
              "  Order Date  Ship Date\n",
              "0 2013-11-09 2013-11-12\n",
              "1 2013-11-09 2013-11-12\n",
              "2 2013-06-13 2013-06-17\n",
              "3 2012-10-11 2012-10-18\n",
              "4 2012-10-11 2012-10-18"
            ]
          },
          "execution_count": 4,
          "metadata": {},
          "output_type": "execute_result"
        }
      ],
      "source": [
        "df[['Order Date', 'Ship Date']].head()"
      ]
    },
    {
      "cell_type": "markdown",
      "id": "856cd0c4",
      "metadata": {},
      "source": [
        "### Double check some datatypes, and for nulls and duplicates:"
      ]
    },
    {
      "cell_type": "code",
      "execution_count": 5,
      "metadata": {},
      "outputs": [
        {
          "name": "stdout",
          "output_type": "stream",
          "text": [
            "<class 'pandas.core.frame.DataFrame'>\n",
            "RangeIndex: 9994 entries, 0 to 9993\n",
            "Data columns (total 21 columns):\n",
            " #   Column         Non-Null Count  Dtype         \n",
            "---  ------         --------------  -----         \n",
            " 0   Row ID         9994 non-null   int64         \n",
            " 1   Order ID       9994 non-null   object        \n",
            " 2   Order Date     9994 non-null   datetime64[ns]\n",
            " 3   Ship Date      9994 non-null   datetime64[ns]\n",
            " 4   Ship Mode      9994 non-null   object        \n",
            " 5   Customer ID    9994 non-null   object        \n",
            " 6   Customer Name  9994 non-null   object        \n",
            " 7   Segment        9994 non-null   object        \n",
            " 8   Country        9994 non-null   object        \n",
            " 9   City           9994 non-null   object        \n",
            " 10  State          9994 non-null   object        \n",
            " 11  Postal Code    9994 non-null   int64         \n",
            " 12  Region         9994 non-null   object        \n",
            " 13  Product ID     9994 non-null   object        \n",
            " 14  Category       9994 non-null   object        \n",
            " 15  Sub-Category   9994 non-null   object        \n",
            " 16  Product Name   9994 non-null   object        \n",
            " 17  Sales          9994 non-null   float64       \n",
            " 18  Quantity       9994 non-null   int64         \n",
            " 19  Discount       9994 non-null   float64       \n",
            " 20  Profit         9994 non-null   float64       \n",
            "dtypes: datetime64[ns](2), float64(3), int64(3), object(13)\n",
            "memory usage: 1.6+ MB\n"
          ]
        }
      ],
      "source": [
        "df.info()"
      ]
    },
    {
      "cell_type": "code",
      "execution_count": 6,
      "id": "d26cc872",
      "metadata": {},
      "outputs": [
        {
          "data": {
            "text/plain": [
              "np.int64(0)"
            ]
          },
          "execution_count": 6,
          "metadata": {},
          "output_type": "execute_result"
        }
      ],
      "source": [
        "df.duplicated().sum()"
      ]
    },
    {
      "cell_type": "code",
      "execution_count": 7,
      "id": "d8b6be96",
      "metadata": {},
      "outputs": [
        {
          "data": {
            "application/vnd.microsoft.datawrangler.viewer.v0+json": {
              "columns": [
                {
                  "name": "index",
                  "rawType": "object",
                  "type": "string"
                },
                {
                  "name": "0",
                  "rawType": "int64",
                  "type": "integer"
                }
              ],
              "ref": "b318b999-6681-4dc6-9c42-7aee1ede53ca",
              "rows": [
                [
                  "Row ID",
                  "0"
                ],
                [
                  "Order ID",
                  "0"
                ],
                [
                  "Order Date",
                  "0"
                ],
                [
                  "Ship Date",
                  "0"
                ],
                [
                  "Ship Mode",
                  "0"
                ],
                [
                  "Customer ID",
                  "0"
                ],
                [
                  "Customer Name",
                  "0"
                ],
                [
                  "Segment",
                  "0"
                ],
                [
                  "Country",
                  "0"
                ],
                [
                  "City",
                  "0"
                ],
                [
                  "State",
                  "0"
                ],
                [
                  "Postal Code",
                  "0"
                ],
                [
                  "Region",
                  "0"
                ],
                [
                  "Product ID",
                  "0"
                ],
                [
                  "Category",
                  "0"
                ],
                [
                  "Sub-Category",
                  "0"
                ],
                [
                  "Product Name",
                  "0"
                ],
                [
                  "Sales",
                  "0"
                ],
                [
                  "Quantity",
                  "0"
                ],
                [
                  "Discount",
                  "0"
                ],
                [
                  "Profit",
                  "0"
                ]
              ],
              "shape": {
                "columns": 1,
                "rows": 21
              }
            },
            "text/plain": [
              "Row ID           0\n",
              "Order ID         0\n",
              "Order Date       0\n",
              "Ship Date        0\n",
              "Ship Mode        0\n",
              "Customer ID      0\n",
              "Customer Name    0\n",
              "Segment          0\n",
              "Country          0\n",
              "City             0\n",
              "State            0\n",
              "Postal Code      0\n",
              "Region           0\n",
              "Product ID       0\n",
              "Category         0\n",
              "Sub-Category     0\n",
              "Product Name     0\n",
              "Sales            0\n",
              "Quantity         0\n",
              "Discount         0\n",
              "Profit           0\n",
              "dtype: int64"
            ]
          },
          "execution_count": 7,
          "metadata": {},
          "output_type": "execute_result"
        }
      ],
      "source": [
        "df.isnull().sum()"
      ]
    },
    {
      "cell_type": "markdown",
      "id": "15a520b3",
      "metadata": {},
      "source": [
        "This data is incredibly clean - we can see there are no null values and no duplicates. However, there are some dates that could be saved in a better format."
      ]
    },
    {
      "cell_type": "markdown",
      "metadata": {},
      "source": [
        "## 2) Data Cleaning"
      ]
    },
    {
      "cell_type": "code",
      "execution_count": 8,
      "metadata": {},
      "outputs": [],
      "source": [
        "df['Order Date'] = pd.to_datetime(df['Order Date'], dayfirst=True)\n",
        "df['Ship Date'] = pd.to_datetime(df['Ship Date'], dayfirst=True)"
      ]
    },
    {
      "cell_type": "code",
      "execution_count": 9,
      "id": "44108db3",
      "metadata": {},
      "outputs": [
        {
          "data": {
            "application/vnd.microsoft.datawrangler.viewer.v0+json": {
              "columns": [
                {
                  "name": "index",
                  "rawType": "object",
                  "type": "string"
                },
                {
                  "name": "0",
                  "rawType": "object",
                  "type": "unknown"
                }
              ],
              "ref": "225eb83e-bf13-45df-912f-3bf3a2529f4a",
              "rows": [
                [
                  "Row ID",
                  "int64"
                ],
                [
                  "Order ID",
                  "object"
                ],
                [
                  "Order Date",
                  "datetime64[ns]"
                ],
                [
                  "Ship Date",
                  "datetime64[ns]"
                ],
                [
                  "Ship Mode",
                  "object"
                ],
                [
                  "Customer ID",
                  "object"
                ],
                [
                  "Customer Name",
                  "object"
                ],
                [
                  "Segment",
                  "object"
                ],
                [
                  "Country",
                  "object"
                ],
                [
                  "City",
                  "object"
                ],
                [
                  "State",
                  "object"
                ],
                [
                  "Postal Code",
                  "int64"
                ],
                [
                  "Region",
                  "object"
                ],
                [
                  "Product ID",
                  "object"
                ],
                [
                  "Category",
                  "object"
                ],
                [
                  "Sub-Category",
                  "object"
                ],
                [
                  "Product Name",
                  "object"
                ],
                [
                  "Sales",
                  "float64"
                ],
                [
                  "Quantity",
                  "int64"
                ],
                [
                  "Discount",
                  "float64"
                ],
                [
                  "Profit",
                  "float64"
                ]
              ],
              "shape": {
                "columns": 1,
                "rows": 21
              }
            },
            "text/plain": [
              "Row ID                    int64\n",
              "Order ID                 object\n",
              "Order Date       datetime64[ns]\n",
              "Ship Date        datetime64[ns]\n",
              "Ship Mode                object\n",
              "Customer ID              object\n",
              "Customer Name            object\n",
              "Segment                  object\n",
              "Country                  object\n",
              "City                     object\n",
              "State                    object\n",
              "Postal Code               int64\n",
              "Region                   object\n",
              "Product ID               object\n",
              "Category                 object\n",
              "Sub-Category             object\n",
              "Product Name             object\n",
              "Sales                   float64\n",
              "Quantity                  int64\n",
              "Discount                float64\n",
              "Profit                  float64\n",
              "dtype: object"
            ]
          },
          "execution_count": 9,
          "metadata": {},
          "output_type": "execute_result"
        }
      ],
      "source": [
        "df.dtypes"
      ]
    },
    {
      "cell_type": "code",
      "execution_count": 10,
      "id": "8a7388c1",
      "metadata": {},
      "outputs": [
        {
          "data": {
            "text/plain": [
              "array(['Consumer', 'Corporate', 'Home Office'], dtype=object)"
            ]
          },
          "execution_count": 10,
          "metadata": {},
          "output_type": "execute_result"
        }
      ],
      "source": [
        "df.Segment.unique()"
      ]
    },
    {
      "cell_type": "code",
      "execution_count": 11,
      "id": "e0defb73",
      "metadata": {},
      "outputs": [
        {
          "data": {
            "application/vnd.microsoft.datawrangler.viewer.v0+json": {
              "columns": [
                {
                  "name": "index",
                  "rawType": "int64",
                  "type": "integer"
                },
                {
                  "name": "Row ID",
                  "rawType": "int64",
                  "type": "integer"
                },
                {
                  "name": "Order ID",
                  "rawType": "object",
                  "type": "string"
                },
                {
                  "name": "Order Date",
                  "rawType": "datetime64[ns]",
                  "type": "datetime"
                },
                {
                  "name": "Ship Date",
                  "rawType": "datetime64[ns]",
                  "type": "datetime"
                },
                {
                  "name": "Ship Mode",
                  "rawType": "object",
                  "type": "string"
                },
                {
                  "name": "Customer ID",
                  "rawType": "object",
                  "type": "string"
                },
                {
                  "name": "Customer Name",
                  "rawType": "object",
                  "type": "string"
                },
                {
                  "name": "customer_category",
                  "rawType": "object",
                  "type": "string"
                },
                {
                  "name": "Country",
                  "rawType": "object",
                  "type": "string"
                },
                {
                  "name": "City",
                  "rawType": "object",
                  "type": "string"
                },
                {
                  "name": "State",
                  "rawType": "object",
                  "type": "string"
                },
                {
                  "name": "Postal Code",
                  "rawType": "int64",
                  "type": "integer"
                },
                {
                  "name": "Region",
                  "rawType": "object",
                  "type": "string"
                },
                {
                  "name": "Product ID",
                  "rawType": "object",
                  "type": "string"
                },
                {
                  "name": "Category",
                  "rawType": "object",
                  "type": "string"
                },
                {
                  "name": "Sub-Category",
                  "rawType": "object",
                  "type": "string"
                },
                {
                  "name": "Product Name",
                  "rawType": "object",
                  "type": "string"
                },
                {
                  "name": "Sales",
                  "rawType": "float64",
                  "type": "float"
                },
                {
                  "name": "Quantity",
                  "rawType": "int64",
                  "type": "integer"
                },
                {
                  "name": "Discount",
                  "rawType": "float64",
                  "type": "float"
                },
                {
                  "name": "Profit",
                  "rawType": "float64",
                  "type": "float"
                }
              ],
              "ref": "4bbe51cb-b906-4750-a928-2d3c0780ab11",
              "rows": [
                [
                  "0",
                  "1",
                  "CA-2013-152156",
                  "2013-11-09 00:00:00",
                  "2013-11-12 00:00:00",
                  "Second Class",
                  "CG-12520",
                  "Claire Gute",
                  "Consumer",
                  "United States",
                  "Henderson",
                  "Kentucky",
                  "42420",
                  "South",
                  "FUR-BO-10001798",
                  "Furniture",
                  "Bookcases",
                  "Bush Somerset Collection Bookcase",
                  "261.96",
                  "2",
                  "0.0",
                  "41.9136"
                ],
                [
                  "1",
                  "2",
                  "CA-2013-152156",
                  "2013-11-09 00:00:00",
                  "2013-11-12 00:00:00",
                  "Second Class",
                  "CG-12520",
                  "Claire Gute",
                  "Consumer",
                  "United States",
                  "Henderson",
                  "Kentucky",
                  "42420",
                  "South",
                  "FUR-CH-10000454",
                  "Furniture",
                  "Chairs",
                  "Hon Deluxe Fabric Upholstered Stacking Chairs, Rounded Back",
                  "731.94",
                  "3",
                  "0.0",
                  "219.582"
                ],
                [
                  "2",
                  "3",
                  "CA-2013-138688",
                  "2013-06-13 00:00:00",
                  "2013-06-17 00:00:00",
                  "Second Class",
                  "DV-13045",
                  "Darrin Van Huff",
                  "Corporate",
                  "United States",
                  "Los Angeles",
                  "California",
                  "90036",
                  "West",
                  "OFF-LA-10000240",
                  "Office Supplies",
                  "Labels",
                  "Self-Adhesive Address Labels for Typewriters by Universal",
                  "14.62",
                  "2",
                  "0.0",
                  "6.8714"
                ],
                [
                  "3",
                  "4",
                  "US-2012-108966",
                  "2012-10-11 00:00:00",
                  "2012-10-18 00:00:00",
                  "Standard Class",
                  "SO-20335",
                  "Sean O'Donnell",
                  "Consumer",
                  "United States",
                  "Fort Lauderdale",
                  "Florida",
                  "33311",
                  "South",
                  "FUR-TA-10000577",
                  "Furniture",
                  "Tables",
                  "Bretford CR4500 Series Slim Rectangular Table",
                  "957.5775",
                  "5",
                  "0.45",
                  "-383.031"
                ],
                [
                  "4",
                  "5",
                  "US-2012-108966",
                  "2012-10-11 00:00:00",
                  "2012-10-18 00:00:00",
                  "Standard Class",
                  "SO-20335",
                  "Sean O'Donnell",
                  "Consumer",
                  "United States",
                  "Fort Lauderdale",
                  "Florida",
                  "33311",
                  "South",
                  "OFF-ST-10000760",
                  "Office Supplies",
                  "Storage",
                  "Eldon Fold 'N Roll Cart System",
                  "22.368",
                  "2",
                  "0.2",
                  "2.5164"
                ]
              ],
              "shape": {
                "columns": 21,
                "rows": 5
              }
            },
            "text/html": [
              "<div>\n",
              "<style scoped>\n",
              "    .dataframe tbody tr th:only-of-type {\n",
              "        vertical-align: middle;\n",
              "    }\n",
              "\n",
              "    .dataframe tbody tr th {\n",
              "        vertical-align: top;\n",
              "    }\n",
              "\n",
              "    .dataframe thead th {\n",
              "        text-align: right;\n",
              "    }\n",
              "</style>\n",
              "<table border=\"1\" class=\"dataframe\">\n",
              "  <thead>\n",
              "    <tr style=\"text-align: right;\">\n",
              "      <th></th>\n",
              "      <th>Row ID</th>\n",
              "      <th>Order ID</th>\n",
              "      <th>Order Date</th>\n",
              "      <th>Ship Date</th>\n",
              "      <th>Ship Mode</th>\n",
              "      <th>Customer ID</th>\n",
              "      <th>Customer Name</th>\n",
              "      <th>customer_category</th>\n",
              "      <th>Country</th>\n",
              "      <th>City</th>\n",
              "      <th>...</th>\n",
              "      <th>Postal Code</th>\n",
              "      <th>Region</th>\n",
              "      <th>Product ID</th>\n",
              "      <th>Category</th>\n",
              "      <th>Sub-Category</th>\n",
              "      <th>Product Name</th>\n",
              "      <th>Sales</th>\n",
              "      <th>Quantity</th>\n",
              "      <th>Discount</th>\n",
              "      <th>Profit</th>\n",
              "    </tr>\n",
              "  </thead>\n",
              "  <tbody>\n",
              "    <tr>\n",
              "      <th>0</th>\n",
              "      <td>1</td>\n",
              "      <td>CA-2013-152156</td>\n",
              "      <td>2013-11-09</td>\n",
              "      <td>2013-11-12</td>\n",
              "      <td>Second Class</td>\n",
              "      <td>CG-12520</td>\n",
              "      <td>Claire Gute</td>\n",
              "      <td>Consumer</td>\n",
              "      <td>United States</td>\n",
              "      <td>Henderson</td>\n",
              "      <td>...</td>\n",
              "      <td>42420</td>\n",
              "      <td>South</td>\n",
              "      <td>FUR-BO-10001798</td>\n",
              "      <td>Furniture</td>\n",
              "      <td>Bookcases</td>\n",
              "      <td>Bush Somerset Collection Bookcase</td>\n",
              "      <td>261.9600</td>\n",
              "      <td>2</td>\n",
              "      <td>0.00</td>\n",
              "      <td>41.9136</td>\n",
              "    </tr>\n",
              "    <tr>\n",
              "      <th>1</th>\n",
              "      <td>2</td>\n",
              "      <td>CA-2013-152156</td>\n",
              "      <td>2013-11-09</td>\n",
              "      <td>2013-11-12</td>\n",
              "      <td>Second Class</td>\n",
              "      <td>CG-12520</td>\n",
              "      <td>Claire Gute</td>\n",
              "      <td>Consumer</td>\n",
              "      <td>United States</td>\n",
              "      <td>Henderson</td>\n",
              "      <td>...</td>\n",
              "      <td>42420</td>\n",
              "      <td>South</td>\n",
              "      <td>FUR-CH-10000454</td>\n",
              "      <td>Furniture</td>\n",
              "      <td>Chairs</td>\n",
              "      <td>Hon Deluxe Fabric Upholstered Stacking Chairs,...</td>\n",
              "      <td>731.9400</td>\n",
              "      <td>3</td>\n",
              "      <td>0.00</td>\n",
              "      <td>219.5820</td>\n",
              "    </tr>\n",
              "    <tr>\n",
              "      <th>2</th>\n",
              "      <td>3</td>\n",
              "      <td>CA-2013-138688</td>\n",
              "      <td>2013-06-13</td>\n",
              "      <td>2013-06-17</td>\n",
              "      <td>Second Class</td>\n",
              "      <td>DV-13045</td>\n",
              "      <td>Darrin Van Huff</td>\n",
              "      <td>Corporate</td>\n",
              "      <td>United States</td>\n",
              "      <td>Los Angeles</td>\n",
              "      <td>...</td>\n",
              "      <td>90036</td>\n",
              "      <td>West</td>\n",
              "      <td>OFF-LA-10000240</td>\n",
              "      <td>Office Supplies</td>\n",
              "      <td>Labels</td>\n",
              "      <td>Self-Adhesive Address Labels for Typewriters b...</td>\n",
              "      <td>14.6200</td>\n",
              "      <td>2</td>\n",
              "      <td>0.00</td>\n",
              "      <td>6.8714</td>\n",
              "    </tr>\n",
              "    <tr>\n",
              "      <th>3</th>\n",
              "      <td>4</td>\n",
              "      <td>US-2012-108966</td>\n",
              "      <td>2012-10-11</td>\n",
              "      <td>2012-10-18</td>\n",
              "      <td>Standard Class</td>\n",
              "      <td>SO-20335</td>\n",
              "      <td>Sean O'Donnell</td>\n",
              "      <td>Consumer</td>\n",
              "      <td>United States</td>\n",
              "      <td>Fort Lauderdale</td>\n",
              "      <td>...</td>\n",
              "      <td>33311</td>\n",
              "      <td>South</td>\n",
              "      <td>FUR-TA-10000577</td>\n",
              "      <td>Furniture</td>\n",
              "      <td>Tables</td>\n",
              "      <td>Bretford CR4500 Series Slim Rectangular Table</td>\n",
              "      <td>957.5775</td>\n",
              "      <td>5</td>\n",
              "      <td>0.45</td>\n",
              "      <td>-383.0310</td>\n",
              "    </tr>\n",
              "    <tr>\n",
              "      <th>4</th>\n",
              "      <td>5</td>\n",
              "      <td>US-2012-108966</td>\n",
              "      <td>2012-10-11</td>\n",
              "      <td>2012-10-18</td>\n",
              "      <td>Standard Class</td>\n",
              "      <td>SO-20335</td>\n",
              "      <td>Sean O'Donnell</td>\n",
              "      <td>Consumer</td>\n",
              "      <td>United States</td>\n",
              "      <td>Fort Lauderdale</td>\n",
              "      <td>...</td>\n",
              "      <td>33311</td>\n",
              "      <td>South</td>\n",
              "      <td>OFF-ST-10000760</td>\n",
              "      <td>Office Supplies</td>\n",
              "      <td>Storage</td>\n",
              "      <td>Eldon Fold 'N Roll Cart System</td>\n",
              "      <td>22.3680</td>\n",
              "      <td>2</td>\n",
              "      <td>0.20</td>\n",
              "      <td>2.5164</td>\n",
              "    </tr>\n",
              "  </tbody>\n",
              "</table>\n",
              "<p>5 rows × 21 columns</p>\n",
              "</div>"
            ],
            "text/plain": [
              "   Row ID        Order ID Order Date  Ship Date       Ship Mode Customer ID  \\\n",
              "0       1  CA-2013-152156 2013-11-09 2013-11-12    Second Class    CG-12520   \n",
              "1       2  CA-2013-152156 2013-11-09 2013-11-12    Second Class    CG-12520   \n",
              "2       3  CA-2013-138688 2013-06-13 2013-06-17    Second Class    DV-13045   \n",
              "3       4  US-2012-108966 2012-10-11 2012-10-18  Standard Class    SO-20335   \n",
              "4       5  US-2012-108966 2012-10-11 2012-10-18  Standard Class    SO-20335   \n",
              "\n",
              "     Customer Name customer_category        Country             City  ...  \\\n",
              "0      Claire Gute          Consumer  United States        Henderson  ...   \n",
              "1      Claire Gute          Consumer  United States        Henderson  ...   \n",
              "2  Darrin Van Huff         Corporate  United States      Los Angeles  ...   \n",
              "3   Sean O'Donnell          Consumer  United States  Fort Lauderdale  ...   \n",
              "4   Sean O'Donnell          Consumer  United States  Fort Lauderdale  ...   \n",
              "\n",
              "  Postal Code  Region       Product ID         Category Sub-Category  \\\n",
              "0       42420   South  FUR-BO-10001798        Furniture    Bookcases   \n",
              "1       42420   South  FUR-CH-10000454        Furniture       Chairs   \n",
              "2       90036    West  OFF-LA-10000240  Office Supplies       Labels   \n",
              "3       33311   South  FUR-TA-10000577        Furniture       Tables   \n",
              "4       33311   South  OFF-ST-10000760  Office Supplies      Storage   \n",
              "\n",
              "                                        Product Name     Sales  Quantity  \\\n",
              "0                  Bush Somerset Collection Bookcase  261.9600         2   \n",
              "1  Hon Deluxe Fabric Upholstered Stacking Chairs,...  731.9400         3   \n",
              "2  Self-Adhesive Address Labels for Typewriters b...   14.6200         2   \n",
              "3      Bretford CR4500 Series Slim Rectangular Table  957.5775         5   \n",
              "4                     Eldon Fold 'N Roll Cart System   22.3680         2   \n",
              "\n",
              "   Discount    Profit  \n",
              "0      0.00   41.9136  \n",
              "1      0.00  219.5820  \n",
              "2      0.00    6.8714  \n",
              "3      0.45 -383.0310  \n",
              "4      0.20    2.5164  \n",
              "\n",
              "[5 rows x 21 columns]"
            ]
          },
          "execution_count": 11,
          "metadata": {},
          "output_type": "execute_result"
        }
      ],
      "source": [
        "df.rename(columns={\"Segment\":\"customer_category\"}, inplace=True)\n",
        "df.head()"
      ]
    },
    {
      "cell_type": "markdown",
      "id": "efdd1bb7",
      "metadata": {},
      "source": [
        "With real data, it is very likely more cleaning and wrangling would be required. "
      ]
    },
    {
      "cell_type": "code",
      "execution_count": 12,
      "id": "f965a4fb",
      "metadata": {},
      "outputs": [],
      "source": [
        "customers_df = df[['Customer ID', 'Customer Name', 'customer_category', 'Country']].drop_duplicates()\n",
        "orders_with_customers = df.merge(customers_df, on='Customer ID', how='left')\n"
      ]
    },
    {
      "cell_type": "markdown",
      "metadata": {},
      "source": [
        "## 3) Build Relational Tables"
      ]
    },
    {
      "cell_type": "code",
      "execution_count": 13,
      "metadata": {},
      "outputs": [],
      "source": [
        "conn = sqlite3.connect('../data/superstore.db')\n",
        "\n",
        "customers_df = df[['Customer ID','Customer Name','customer_category','City','State','Region','Postal Code']].drop_duplicates().rename(columns={\n",
        "   'Customer ID': 'customer_id',\n",
        "    'Customer Name': 'customer_name',\n",
        "    'City': 'city',\n",
        "    'State': 'state',\n",
        "    'Region': 'region',\n",
        "    'Postal Code': 'postal_code'\n",
        "    \n",
        "})\n",
        "\n",
        "products_df = df[['Product ID','Category','Sub-Category','Product Name']].drop_duplicates().rename(columns={\n",
        "    'Product ID':'product_id',\n",
        "    'Category':'category',\n",
        "    'Sub-Category':'subcategory',\n",
        "    'Product Name':'product_name'\n",
        "})\n",
        "\n",
        "orders_df = df[['Order ID','Order Date','Ship Date','Ship Mode','Customer ID']].drop_duplicates().rename(columns={\n",
        "    'Order ID':'order_id',\n",
        "    'Order Date':'order_date',\n",
        "    'Ship Date':'ship_date',\n",
        "    'Ship Mode':'ship_mode',\n",
        "    'Customer ID':'customer_id'\n",
        "})\n",
        "\n",
        "order_details_df = df[['Order ID','Product ID','Sales','Quantity','Discount','Profit']].rename(columns={\n",
        "    'Order ID':'order_id',\n",
        "    'Product ID':'product_id'\n",
        "})\n",
        "\n",
        "customers_df.to_sql('customers', conn, index=False, if_exists='replace')\n",
        "products_df.to_sql('products', conn, index=False, if_exists='replace')\n",
        "orders_df.to_sql('orders', conn, index=False, if_exists='replace')\n",
        "order_details_df.to_sql('order_details', conn, index=False, if_exists='replace')\n",
        "conn.commit()"
      ]
    },
    {
      "cell_type": "markdown",
      "metadata": {},
      "source": [
        "## 4) Make Some Queries!"
      ]
    },
    {
      "cell_type": "markdown",
      "id": "9c43f98a",
      "metadata": {},
      "source": [
        "### Which customer segments bring in the most revenue and profit?"
      ]
    },
    {
      "cell_type": "code",
      "execution_count": 14,
      "id": "642cb2ff",
      "metadata": {},
      "outputs": [
        {
          "data": {
            "application/vnd.microsoft.datawrangler.viewer.v0+json": {
              "columns": [
                {
                  "name": "index",
                  "rawType": "int64",
                  "type": "integer"
                },
                {
                  "name": "customer_category",
                  "rawType": "object",
                  "type": "string"
                },
                {
                  "name": "total_sales",
                  "rawType": "float64",
                  "type": "float"
                },
                {
                  "name": "total_profit",
                  "rawType": "float64",
                  "type": "float"
                }
              ],
              "ref": "289d408d-b7f6-4ba2-88af-f54b8d7c0747",
              "rows": [
                [
                  "0",
                  "Consumer",
                  "8380282.43",
                  "973085.86"
                ],
                [
                  "1",
                  "Corporate",
                  "5044899.83",
                  "660287.69"
                ],
                [
                  "2",
                  "Home Office",
                  "2964459.36",
                  "434344.01"
                ]
              ],
              "shape": {
                "columns": 3,
                "rows": 3
              }
            },
            "text/html": [
              "<div>\n",
              "<style scoped>\n",
              "    .dataframe tbody tr th:only-of-type {\n",
              "        vertical-align: middle;\n",
              "    }\n",
              "\n",
              "    .dataframe tbody tr th {\n",
              "        vertical-align: top;\n",
              "    }\n",
              "\n",
              "    .dataframe thead th {\n",
              "        text-align: right;\n",
              "    }\n",
              "</style>\n",
              "<table border=\"1\" class=\"dataframe\">\n",
              "  <thead>\n",
              "    <tr style=\"text-align: right;\">\n",
              "      <th></th>\n",
              "      <th>customer_category</th>\n",
              "      <th>total_sales</th>\n",
              "      <th>total_profit</th>\n",
              "    </tr>\n",
              "  </thead>\n",
              "  <tbody>\n",
              "    <tr>\n",
              "      <th>0</th>\n",
              "      <td>Consumer</td>\n",
              "      <td>8380282.43</td>\n",
              "      <td>973085.86</td>\n",
              "    </tr>\n",
              "    <tr>\n",
              "      <th>1</th>\n",
              "      <td>Corporate</td>\n",
              "      <td>5044899.83</td>\n",
              "      <td>660287.69</td>\n",
              "    </tr>\n",
              "    <tr>\n",
              "      <th>2</th>\n",
              "      <td>Home Office</td>\n",
              "      <td>2964459.36</td>\n",
              "      <td>434344.01</td>\n",
              "    </tr>\n",
              "  </tbody>\n",
              "</table>\n",
              "</div>"
            ],
            "text/plain": [
              "  customer_category  total_sales  total_profit\n",
              "0          Consumer   8380282.43     973085.86\n",
              "1         Corporate   5044899.83     660287.69\n",
              "2       Home Office   2964459.36     434344.01"
            ]
          },
          "execution_count": 14,
          "metadata": {},
          "output_type": "execute_result"
        }
      ],
      "source": [
        "query1 = \"\"\" SELECT \n",
        "    c.customer_category,\n",
        "    ROUND(SUM(od.sales), 2) AS total_sales,\n",
        "    ROUND(SUM(od.profit), 2) AS total_profit\n",
        "FROM order_details od\n",
        "JOIN orders o ON od.order_id = o.order_id\n",
        "JOIN customers c ON o.customer_id = c.customer_id\n",
        "GROUP BY c.customer_category\n",
        "ORDER BY total_sales DESC;\n",
        "\"\"\"\n",
        "result1 = pd.read_sql(query1, conn)\n",
        "result1"
      ]
    },
    {
      "cell_type": "markdown",
      "id": "345a6a86",
      "metadata": {},
      "source": [
        "### What are the top 10 customers by total sales?"
      ]
    },
    {
      "cell_type": "code",
      "execution_count": 15,
      "id": "c06049d2",
      "metadata": {},
      "outputs": [
        {
          "data": {
            "application/vnd.microsoft.datawrangler.viewer.v0+json": {
              "columns": [
                {
                  "name": "index",
                  "rawType": "int64",
                  "type": "integer"
                },
                {
                  "name": "order_id",
                  "rawType": "object",
                  "type": "string"
                },
                {
                  "name": "order_date",
                  "rawType": "object",
                  "type": "string"
                },
                {
                  "name": "ship_date",
                  "rawType": "object",
                  "type": "string"
                },
                {
                  "name": "ship_mode",
                  "rawType": "object",
                  "type": "string"
                },
                {
                  "name": "customer_id",
                  "rawType": "object",
                  "type": "string"
                }
              ],
              "ref": "3710f0f2-79ae-4c3d-8d97-d2d99224ab39",
              "rows": [
                [
                  "0",
                  "CA-2013-152156",
                  "2013-11-09 00:00:00",
                  "2013-11-12 00:00:00",
                  "Second Class",
                  "CG-12520"
                ],
                [
                  "1",
                  "CA-2013-138688",
                  "2013-06-13 00:00:00",
                  "2013-06-17 00:00:00",
                  "Second Class",
                  "DV-13045"
                ],
                [
                  "2",
                  "US-2012-108966",
                  "2012-10-11 00:00:00",
                  "2012-10-18 00:00:00",
                  "Standard Class",
                  "SO-20335"
                ],
                [
                  "3",
                  "CA-2011-115812",
                  "2011-06-09 00:00:00",
                  "2011-06-14 00:00:00",
                  "Standard Class",
                  "BH-11710"
                ],
                [
                  "4",
                  "CA-2014-114412",
                  "2014-04-16 00:00:00",
                  "2014-04-21 00:00:00",
                  "Standard Class",
                  "AA-10480"
                ],
                [
                  "5",
                  "CA-2013-161389",
                  "2013-12-06 00:00:00",
                  "2013-12-11 00:00:00",
                  "Standard Class",
                  "IM-15070"
                ],
                [
                  "6",
                  "US-2012-118983",
                  "2012-11-22 00:00:00",
                  "2012-11-26 00:00:00",
                  "Standard Class",
                  "HP-14815"
                ],
                [
                  "7",
                  "CA-2011-105893",
                  "2011-11-11 00:00:00",
                  "2011-11-18 00:00:00",
                  "Standard Class",
                  "PK-19075"
                ],
                [
                  "8",
                  "CA-2011-167164",
                  "2011-05-13 00:00:00",
                  "2011-05-15 00:00:00",
                  "Second Class",
                  "AG-10270"
                ],
                [
                  "9",
                  "CA-2011-143336",
                  "2011-08-27 00:00:00",
                  "2011-09-01 00:00:00",
                  "Second Class",
                  "ZD-21925"
                ]
              ],
              "shape": {
                "columns": 5,
                "rows": 10
              }
            },
            "text/html": [
              "<div>\n",
              "<style scoped>\n",
              "    .dataframe tbody tr th:only-of-type {\n",
              "        vertical-align: middle;\n",
              "    }\n",
              "\n",
              "    .dataframe tbody tr th {\n",
              "        vertical-align: top;\n",
              "    }\n",
              "\n",
              "    .dataframe thead th {\n",
              "        text-align: right;\n",
              "    }\n",
              "</style>\n",
              "<table border=\"1\" class=\"dataframe\">\n",
              "  <thead>\n",
              "    <tr style=\"text-align: right;\">\n",
              "      <th></th>\n",
              "      <th>order_id</th>\n",
              "      <th>order_date</th>\n",
              "      <th>ship_date</th>\n",
              "      <th>ship_mode</th>\n",
              "      <th>customer_id</th>\n",
              "    </tr>\n",
              "  </thead>\n",
              "  <tbody>\n",
              "    <tr>\n",
              "      <th>0</th>\n",
              "      <td>CA-2013-152156</td>\n",
              "      <td>2013-11-09 00:00:00</td>\n",
              "      <td>2013-11-12 00:00:00</td>\n",
              "      <td>Second Class</td>\n",
              "      <td>CG-12520</td>\n",
              "    </tr>\n",
              "    <tr>\n",
              "      <th>1</th>\n",
              "      <td>CA-2013-138688</td>\n",
              "      <td>2013-06-13 00:00:00</td>\n",
              "      <td>2013-06-17 00:00:00</td>\n",
              "      <td>Second Class</td>\n",
              "      <td>DV-13045</td>\n",
              "    </tr>\n",
              "    <tr>\n",
              "      <th>2</th>\n",
              "      <td>US-2012-108966</td>\n",
              "      <td>2012-10-11 00:00:00</td>\n",
              "      <td>2012-10-18 00:00:00</td>\n",
              "      <td>Standard Class</td>\n",
              "      <td>SO-20335</td>\n",
              "    </tr>\n",
              "    <tr>\n",
              "      <th>3</th>\n",
              "      <td>CA-2011-115812</td>\n",
              "      <td>2011-06-09 00:00:00</td>\n",
              "      <td>2011-06-14 00:00:00</td>\n",
              "      <td>Standard Class</td>\n",
              "      <td>BH-11710</td>\n",
              "    </tr>\n",
              "    <tr>\n",
              "      <th>4</th>\n",
              "      <td>CA-2014-114412</td>\n",
              "      <td>2014-04-16 00:00:00</td>\n",
              "      <td>2014-04-21 00:00:00</td>\n",
              "      <td>Standard Class</td>\n",
              "      <td>AA-10480</td>\n",
              "    </tr>\n",
              "    <tr>\n",
              "      <th>5</th>\n",
              "      <td>CA-2013-161389</td>\n",
              "      <td>2013-12-06 00:00:00</td>\n",
              "      <td>2013-12-11 00:00:00</td>\n",
              "      <td>Standard Class</td>\n",
              "      <td>IM-15070</td>\n",
              "    </tr>\n",
              "    <tr>\n",
              "      <th>6</th>\n",
              "      <td>US-2012-118983</td>\n",
              "      <td>2012-11-22 00:00:00</td>\n",
              "      <td>2012-11-26 00:00:00</td>\n",
              "      <td>Standard Class</td>\n",
              "      <td>HP-14815</td>\n",
              "    </tr>\n",
              "    <tr>\n",
              "      <th>7</th>\n",
              "      <td>CA-2011-105893</td>\n",
              "      <td>2011-11-11 00:00:00</td>\n",
              "      <td>2011-11-18 00:00:00</td>\n",
              "      <td>Standard Class</td>\n",
              "      <td>PK-19075</td>\n",
              "    </tr>\n",
              "    <tr>\n",
              "      <th>8</th>\n",
              "      <td>CA-2011-167164</td>\n",
              "      <td>2011-05-13 00:00:00</td>\n",
              "      <td>2011-05-15 00:00:00</td>\n",
              "      <td>Second Class</td>\n",
              "      <td>AG-10270</td>\n",
              "    </tr>\n",
              "    <tr>\n",
              "      <th>9</th>\n",
              "      <td>CA-2011-143336</td>\n",
              "      <td>2011-08-27 00:00:00</td>\n",
              "      <td>2011-09-01 00:00:00</td>\n",
              "      <td>Second Class</td>\n",
              "      <td>ZD-21925</td>\n",
              "    </tr>\n",
              "  </tbody>\n",
              "</table>\n",
              "</div>"
            ],
            "text/plain": [
              "         order_id           order_date            ship_date       ship_mode  \\\n",
              "0  CA-2013-152156  2013-11-09 00:00:00  2013-11-12 00:00:00    Second Class   \n",
              "1  CA-2013-138688  2013-06-13 00:00:00  2013-06-17 00:00:00    Second Class   \n",
              "2  US-2012-108966  2012-10-11 00:00:00  2012-10-18 00:00:00  Standard Class   \n",
              "3  CA-2011-115812  2011-06-09 00:00:00  2011-06-14 00:00:00  Standard Class   \n",
              "4  CA-2014-114412  2014-04-16 00:00:00  2014-04-21 00:00:00  Standard Class   \n",
              "5  CA-2013-161389  2013-12-06 00:00:00  2013-12-11 00:00:00  Standard Class   \n",
              "6  US-2012-118983  2012-11-22 00:00:00  2012-11-26 00:00:00  Standard Class   \n",
              "7  CA-2011-105893  2011-11-11 00:00:00  2011-11-18 00:00:00  Standard Class   \n",
              "8  CA-2011-167164  2011-05-13 00:00:00  2011-05-15 00:00:00    Second Class   \n",
              "9  CA-2011-143336  2011-08-27 00:00:00  2011-09-01 00:00:00    Second Class   \n",
              "\n",
              "  customer_id  \n",
              "0    CG-12520  \n",
              "1    DV-13045  \n",
              "2    SO-20335  \n",
              "3    BH-11710  \n",
              "4    AA-10480  \n",
              "5    IM-15070  \n",
              "6    HP-14815  \n",
              "7    PK-19075  \n",
              "8    AG-10270  \n",
              "9    ZD-21925  "
            ]
          },
          "execution_count": 15,
          "metadata": {},
          "output_type": "execute_result"
        }
      ],
      "source": [
        "query2 = \"\"\"\n",
        "SELECT * FROM orders\n",
        "LIMIT 10\n",
        "\n",
        "\"\"\"\n",
        "result2 = pd.read_sql(query2, conn)\n",
        "result2"
      ]
    },
    {
      "cell_type": "markdown",
      "id": "4fb5c010",
      "metadata": {},
      "source": [
        "### Which product categories and subcategories are the most profitable overall?"
      ]
    },
    {
      "cell_type": "code",
      "execution_count": 16,
      "id": "b04efd3c",
      "metadata": {},
      "outputs": [
        {
          "data": {
            "application/vnd.microsoft.datawrangler.viewer.v0+json": {
              "columns": [
                {
                  "name": "index",
                  "rawType": "int64",
                  "type": "integer"
                },
                {
                  "name": "category",
                  "rawType": "object",
                  "type": "string"
                },
                {
                  "name": "subcategory",
                  "rawType": "object",
                  "type": "string"
                },
                {
                  "name": "total_sales",
                  "rawType": "float64",
                  "type": "float"
                },
                {
                  "name": "total_profit",
                  "rawType": "float64",
                  "type": "float"
                }
              ],
              "ref": "6f4309a1-4a1c-475e-9c18-b5ab69ef2609",
              "rows": [
                [
                  "0",
                  "Technology",
                  "Phones",
                  "356702.35",
                  "46936.19"
                ],
                [
                  "1",
                  "Furniture",
                  "Chairs",
                  "330891.13",
                  "26707.65"
                ],
                [
                  "2",
                  "Office Supplies",
                  "Storage",
                  "224958.56",
                  "21408.7"
                ],
                [
                  "3",
                  "Office Supplies",
                  "Binders",
                  "211231.72",
                  "30373.2"
                ],
                [
                  "4",
                  "Furniture",
                  "Tables",
                  "206965.53",
                  "-17725.48"
                ],
                [
                  "5",
                  "Technology",
                  "Machines",
                  "194442.87",
                  "2502.64"
                ],
                [
                  "6",
                  "Technology",
                  "Accessories",
                  "192960.03",
                  "48359.05"
                ],
                [
                  "7",
                  "Technology",
                  "Copiers",
                  "149528.03",
                  "55617.82"
                ],
                [
                  "8",
                  "Furniture",
                  "Bookcases",
                  "127801.64",
                  "-3452.87"
                ],
                [
                  "9",
                  "Office Supplies",
                  "Appliances",
                  "109543.01",
                  "18514.49"
                ],
                [
                  "10",
                  "Furniture",
                  "Furnishings",
                  "98626.35",
                  "14569.59"
                ],
                [
                  "11",
                  "Office Supplies",
                  "Paper",
                  "85155.02",
                  "36994.53"
                ],
                [
                  "12",
                  "Office Supplies",
                  "Supplies",
                  "46673.54",
                  "-1189.1"
                ],
                [
                  "13",
                  "Office Supplies",
                  "Art",
                  "27199.74",
                  "6551.56"
                ],
                [
                  "14",
                  "Office Supplies",
                  "Envelopes",
                  "16476.4",
                  "6964.18"
                ],
                [
                  "15",
                  "Office Supplies",
                  "Labels",
                  "12486.31",
                  "5546.25"
                ],
                [
                  "16",
                  "Office Supplies",
                  "Fasteners",
                  "3024.28",
                  "949.52"
                ]
              ],
              "shape": {
                "columns": 4,
                "rows": 17
              }
            },
            "text/html": [
              "<div>\n",
              "<style scoped>\n",
              "    .dataframe tbody tr th:only-of-type {\n",
              "        vertical-align: middle;\n",
              "    }\n",
              "\n",
              "    .dataframe tbody tr th {\n",
              "        vertical-align: top;\n",
              "    }\n",
              "\n",
              "    .dataframe thead th {\n",
              "        text-align: right;\n",
              "    }\n",
              "</style>\n",
              "<table border=\"1\" class=\"dataframe\">\n",
              "  <thead>\n",
              "    <tr style=\"text-align: right;\">\n",
              "      <th></th>\n",
              "      <th>category</th>\n",
              "      <th>subcategory</th>\n",
              "      <th>total_sales</th>\n",
              "      <th>total_profit</th>\n",
              "    </tr>\n",
              "  </thead>\n",
              "  <tbody>\n",
              "    <tr>\n",
              "      <th>0</th>\n",
              "      <td>Technology</td>\n",
              "      <td>Phones</td>\n",
              "      <td>356702.35</td>\n",
              "      <td>46936.19</td>\n",
              "    </tr>\n",
              "    <tr>\n",
              "      <th>1</th>\n",
              "      <td>Furniture</td>\n",
              "      <td>Chairs</td>\n",
              "      <td>330891.13</td>\n",
              "      <td>26707.65</td>\n",
              "    </tr>\n",
              "    <tr>\n",
              "      <th>2</th>\n",
              "      <td>Office Supplies</td>\n",
              "      <td>Storage</td>\n",
              "      <td>224958.56</td>\n",
              "      <td>21408.70</td>\n",
              "    </tr>\n",
              "    <tr>\n",
              "      <th>3</th>\n",
              "      <td>Office Supplies</td>\n",
              "      <td>Binders</td>\n",
              "      <td>211231.72</td>\n",
              "      <td>30373.20</td>\n",
              "    </tr>\n",
              "    <tr>\n",
              "      <th>4</th>\n",
              "      <td>Furniture</td>\n",
              "      <td>Tables</td>\n",
              "      <td>206965.53</td>\n",
              "      <td>-17725.48</td>\n",
              "    </tr>\n",
              "    <tr>\n",
              "      <th>5</th>\n",
              "      <td>Technology</td>\n",
              "      <td>Machines</td>\n",
              "      <td>194442.87</td>\n",
              "      <td>2502.64</td>\n",
              "    </tr>\n",
              "    <tr>\n",
              "      <th>6</th>\n",
              "      <td>Technology</td>\n",
              "      <td>Accessories</td>\n",
              "      <td>192960.03</td>\n",
              "      <td>48359.05</td>\n",
              "    </tr>\n",
              "    <tr>\n",
              "      <th>7</th>\n",
              "      <td>Technology</td>\n",
              "      <td>Copiers</td>\n",
              "      <td>149528.03</td>\n",
              "      <td>55617.82</td>\n",
              "    </tr>\n",
              "    <tr>\n",
              "      <th>8</th>\n",
              "      <td>Furniture</td>\n",
              "      <td>Bookcases</td>\n",
              "      <td>127801.64</td>\n",
              "      <td>-3452.87</td>\n",
              "    </tr>\n",
              "    <tr>\n",
              "      <th>9</th>\n",
              "      <td>Office Supplies</td>\n",
              "      <td>Appliances</td>\n",
              "      <td>109543.01</td>\n",
              "      <td>18514.49</td>\n",
              "    </tr>\n",
              "    <tr>\n",
              "      <th>10</th>\n",
              "      <td>Furniture</td>\n",
              "      <td>Furnishings</td>\n",
              "      <td>98626.35</td>\n",
              "      <td>14569.59</td>\n",
              "    </tr>\n",
              "    <tr>\n",
              "      <th>11</th>\n",
              "      <td>Office Supplies</td>\n",
              "      <td>Paper</td>\n",
              "      <td>85155.02</td>\n",
              "      <td>36994.53</td>\n",
              "    </tr>\n",
              "    <tr>\n",
              "      <th>12</th>\n",
              "      <td>Office Supplies</td>\n",
              "      <td>Supplies</td>\n",
              "      <td>46673.54</td>\n",
              "      <td>-1189.10</td>\n",
              "    </tr>\n",
              "    <tr>\n",
              "      <th>13</th>\n",
              "      <td>Office Supplies</td>\n",
              "      <td>Art</td>\n",
              "      <td>27199.74</td>\n",
              "      <td>6551.56</td>\n",
              "    </tr>\n",
              "    <tr>\n",
              "      <th>14</th>\n",
              "      <td>Office Supplies</td>\n",
              "      <td>Envelopes</td>\n",
              "      <td>16476.40</td>\n",
              "      <td>6964.18</td>\n",
              "    </tr>\n",
              "    <tr>\n",
              "      <th>15</th>\n",
              "      <td>Office Supplies</td>\n",
              "      <td>Labels</td>\n",
              "      <td>12486.31</td>\n",
              "      <td>5546.25</td>\n",
              "    </tr>\n",
              "    <tr>\n",
              "      <th>16</th>\n",
              "      <td>Office Supplies</td>\n",
              "      <td>Fasteners</td>\n",
              "      <td>3024.28</td>\n",
              "      <td>949.52</td>\n",
              "    </tr>\n",
              "  </tbody>\n",
              "</table>\n",
              "</div>"
            ],
            "text/plain": [
              "           category  subcategory  total_sales  total_profit\n",
              "0        Technology       Phones    356702.35      46936.19\n",
              "1         Furniture       Chairs    330891.13      26707.65\n",
              "2   Office Supplies      Storage    224958.56      21408.70\n",
              "3   Office Supplies      Binders    211231.72      30373.20\n",
              "4         Furniture       Tables    206965.53     -17725.48\n",
              "5        Technology     Machines    194442.87       2502.64\n",
              "6        Technology  Accessories    192960.03      48359.05\n",
              "7        Technology      Copiers    149528.03      55617.82\n",
              "8         Furniture    Bookcases    127801.64      -3452.87\n",
              "9   Office Supplies   Appliances    109543.01      18514.49\n",
              "10        Furniture  Furnishings     98626.35      14569.59\n",
              "11  Office Supplies        Paper     85155.02      36994.53\n",
              "12  Office Supplies     Supplies     46673.54      -1189.10\n",
              "13  Office Supplies          Art     27199.74       6551.56\n",
              "14  Office Supplies    Envelopes     16476.40       6964.18\n",
              "15  Office Supplies       Labels     12486.31       5546.25\n",
              "16  Office Supplies    Fasteners      3024.28        949.52"
            ]
          },
          "execution_count": 16,
          "metadata": {},
          "output_type": "execute_result"
        }
      ],
      "source": [
        "query3 = \"\"\" \n",
        "SELECT \n",
        "    p.category,\n",
        "    p.subcategory,\n",
        "    ROUND(SUM(od.sales), 2) AS total_sales,\n",
        "    ROUND(SUM(od.profit), 2) AS total_profit\n",
        "FROM products p\n",
        "JOIN order_details od ON p.product_id = od.product_id\n",
        "GROUP BY p.category, p.subcategory\n",
        "ORDER BY total_sales DESC;\n",
        "\n",
        "\"\"\"\n",
        "result3 = pd.read_sql(query3, conn)\n",
        "result3"
      ]
    },
    {
      "cell_type": "markdown",
      "id": "b1d63547",
      "metadata": {},
      "source": [
        "### What is the average discount given per category?"
      ]
    },
    {
      "cell_type": "code",
      "execution_count": 17,
      "id": "08c9c82e",
      "metadata": {},
      "outputs": [
        {
          "data": {
            "application/vnd.microsoft.datawrangler.viewer.v0+json": {
              "columns": [
                {
                  "name": "index",
                  "rawType": "int64",
                  "type": "integer"
                },
                {
                  "name": "category",
                  "rawType": "object",
                  "type": "string"
                },
                {
                  "name": "avg_discount",
                  "rawType": "float64",
                  "type": "float"
                }
              ],
              "ref": "abc41863-cfe8-4023-85ac-fe3222b21f39",
              "rows": [
                [
                  "0",
                  "Furniture",
                  "0.17"
                ],
                [
                  "1",
                  "Office Supplies",
                  "0.16"
                ],
                [
                  "2",
                  "Technology",
                  "0.13"
                ]
              ],
              "shape": {
                "columns": 2,
                "rows": 3
              }
            },
            "text/html": [
              "<div>\n",
              "<style scoped>\n",
              "    .dataframe tbody tr th:only-of-type {\n",
              "        vertical-align: middle;\n",
              "    }\n",
              "\n",
              "    .dataframe tbody tr th {\n",
              "        vertical-align: top;\n",
              "    }\n",
              "\n",
              "    .dataframe thead th {\n",
              "        text-align: right;\n",
              "    }\n",
              "</style>\n",
              "<table border=\"1\" class=\"dataframe\">\n",
              "  <thead>\n",
              "    <tr style=\"text-align: right;\">\n",
              "      <th></th>\n",
              "      <th>category</th>\n",
              "      <th>avg_discount</th>\n",
              "    </tr>\n",
              "  </thead>\n",
              "  <tbody>\n",
              "    <tr>\n",
              "      <th>0</th>\n",
              "      <td>Furniture</td>\n",
              "      <td>0.17</td>\n",
              "    </tr>\n",
              "    <tr>\n",
              "      <th>1</th>\n",
              "      <td>Office Supplies</td>\n",
              "      <td>0.16</td>\n",
              "    </tr>\n",
              "    <tr>\n",
              "      <th>2</th>\n",
              "      <td>Technology</td>\n",
              "      <td>0.13</td>\n",
              "    </tr>\n",
              "  </tbody>\n",
              "</table>\n",
              "</div>"
            ],
            "text/plain": [
              "          category  avg_discount\n",
              "0        Furniture          0.17\n",
              "1  Office Supplies          0.16\n",
              "2       Technology          0.13"
            ]
          },
          "execution_count": 17,
          "metadata": {},
          "output_type": "execute_result"
        }
      ],
      "source": [
        "query4 = \"\"\" \n",
        "SELECT \n",
        "    p.category,\n",
        "    ROUND(AVG(od.discount), 2) AS avg_discount\n",
        "FROM order_details od\n",
        "JOIN products p ON od.product_id = p.product_id\n",
        "GROUP BY p.category\n",
        "ORDER BY avg_discount DESC\n",
        "\n",
        "\"\"\"\n",
        "result4 = pd.read_sql(query4, conn)\n",
        "result4"
      ]
    },
    {
      "cell_type": "markdown",
      "id": "bb566a9c",
      "metadata": {},
      "source": [
        "### Which states or regions contribute the most to total sales?"
      ]
    },
    {
      "cell_type": "code",
      "execution_count": 18,
      "id": "1cc1c5c3",
      "metadata": {},
      "outputs": [
        {
          "data": {
            "application/vnd.microsoft.datawrangler.viewer.v0+json": {
              "columns": [
                {
                  "name": "index",
                  "rawType": "int64",
                  "type": "integer"
                },
                {
                  "name": "state",
                  "rawType": "object",
                  "type": "string"
                },
                {
                  "name": "region",
                  "rawType": "object",
                  "type": "string"
                },
                {
                  "name": "total_sales",
                  "rawType": "float64",
                  "type": "float"
                }
              ],
              "ref": "427fc6cb-6dd4-4399-ba5d-018c70bcf974",
              "rows": [
                [
                  "0",
                  "California",
                  "West",
                  "3314837.69"
                ],
                [
                  "1",
                  "New York",
                  "East",
                  "1859365.37"
                ],
                [
                  "2",
                  "Texas",
                  "Central",
                  "1547925.76"
                ],
                [
                  "3",
                  "Pennsylvania",
                  "East",
                  "886105.68"
                ],
                [
                  "4",
                  "Washington",
                  "West",
                  "862298.69"
                ],
                [
                  "5",
                  "Illinois",
                  "Central",
                  "843352.76"
                ],
                [
                  "6",
                  "Ohio",
                  "East",
                  "707747.69"
                ],
                [
                  "7",
                  "Florida",
                  "South",
                  "635637.78"
                ],
                [
                  "8",
                  "North Carolina",
                  "South",
                  "437938.43"
                ],
                [
                  "9",
                  "Michigan",
                  "Central",
                  "432428.02"
                ],
                [
                  "10",
                  "Virginia",
                  "South",
                  "403947.25"
                ],
                [
                  "11",
                  "Arizona",
                  "West",
                  "332928.15"
                ],
                [
                  "12",
                  "Tennessee",
                  "South",
                  "270626.18"
                ],
                [
                  "13",
                  "Georgia",
                  "South",
                  "267895.57"
                ],
                [
                  "14",
                  "Indiana",
                  "Central",
                  "264912.84"
                ],
                [
                  "15",
                  "Colorado",
                  "West",
                  "254680.96"
                ],
                [
                  "16",
                  "Massachusetts",
                  "East",
                  "221929.34"
                ],
                [
                  "17",
                  "Oregon",
                  "West",
                  "212442.5"
                ],
                [
                  "18",
                  "Kentucky",
                  "South",
                  "205286.58"
                ],
                [
                  "19",
                  "New Jersey",
                  "East",
                  "196939.35"
                ],
                [
                  "20",
                  "Wisconsin",
                  "Central",
                  "186075.75"
                ],
                [
                  "21",
                  "Delaware",
                  "East",
                  "175340.88"
                ],
                [
                  "22",
                  "Minnesota",
                  "Central",
                  "168387.68"
                ],
                [
                  "23",
                  "Alabama",
                  "South",
                  "143041.01"
                ],
                [
                  "24",
                  "Maryland",
                  "East",
                  "131546.83"
                ],
                [
                  "25",
                  "Connecticut",
                  "East",
                  "128414.01"
                ],
                [
                  "26",
                  "Oklahoma",
                  "Central",
                  "101223.06"
                ],
                [
                  "27",
                  "Utah",
                  "West",
                  "100292.29"
                ],
                [
                  "28",
                  "Arkansas",
                  "South",
                  "95158.7"
                ],
                [
                  "29",
                  "Rhode Island",
                  "East",
                  "92447.37"
                ],
                [
                  "30",
                  "Nevada",
                  "West",
                  "90519.94"
                ],
                [
                  "31",
                  "South Carolina",
                  "South",
                  "86100.77"
                ],
                [
                  "32",
                  "Mississippi",
                  "South",
                  "85740.48"
                ],
                [
                  "33",
                  "Missouri",
                  "Central",
                  "83206.77"
                ],
                [
                  "34",
                  "Louisiana",
                  "South",
                  "75064.77"
                ],
                [
                  "35",
                  "Nebraska",
                  "Central",
                  "70650.4"
                ],
                [
                  "36",
                  "New Mexico",
                  "West",
                  "62484.33"
                ],
                [
                  "37",
                  "Iowa",
                  "Central",
                  "59973.77"
                ],
                [
                  "38",
                  "New Hampshire",
                  "East",
                  "59719.61"
                ],
                [
                  "39",
                  "Kansas",
                  "Central",
                  "58887.31"
                ],
                [
                  "40",
                  "Idaho",
                  "West",
                  "52983.87"
                ],
                [
                  "41",
                  "South Dakota",
                  "Central",
                  "30554.57"
                ],
                [
                  "42",
                  "Montana",
                  "West",
                  "20600.37"
                ],
                [
                  "43",
                  "Vermont",
                  "East",
                  "18368.44"
                ],
                [
                  "44",
                  "Maine",
                  "East",
                  "18239.7"
                ],
                [
                  "45",
                  "District of Columbia",
                  "East",
                  "15420.31"
                ],
                [
                  "46",
                  "West Virginia",
                  "East",
                  "11405.48"
                ],
                [
                  "47",
                  "North Dakota",
                  "Central",
                  "6113.26"
                ],
                [
                  "48",
                  "Wyoming",
                  "West",
                  "2453.28"
                ]
              ],
              "shape": {
                "columns": 3,
                "rows": 49
              }
            },
            "text/html": [
              "<div>\n",
              "<style scoped>\n",
              "    .dataframe tbody tr th:only-of-type {\n",
              "        vertical-align: middle;\n",
              "    }\n",
              "\n",
              "    .dataframe tbody tr th {\n",
              "        vertical-align: top;\n",
              "    }\n",
              "\n",
              "    .dataframe thead th {\n",
              "        text-align: right;\n",
              "    }\n",
              "</style>\n",
              "<table border=\"1\" class=\"dataframe\">\n",
              "  <thead>\n",
              "    <tr style=\"text-align: right;\">\n",
              "      <th></th>\n",
              "      <th>state</th>\n",
              "      <th>region</th>\n",
              "      <th>total_sales</th>\n",
              "    </tr>\n",
              "  </thead>\n",
              "  <tbody>\n",
              "    <tr>\n",
              "      <th>0</th>\n",
              "      <td>California</td>\n",
              "      <td>West</td>\n",
              "      <td>3314837.69</td>\n",
              "    </tr>\n",
              "    <tr>\n",
              "      <th>1</th>\n",
              "      <td>New York</td>\n",
              "      <td>East</td>\n",
              "      <td>1859365.37</td>\n",
              "    </tr>\n",
              "    <tr>\n",
              "      <th>2</th>\n",
              "      <td>Texas</td>\n",
              "      <td>Central</td>\n",
              "      <td>1547925.76</td>\n",
              "    </tr>\n",
              "    <tr>\n",
              "      <th>3</th>\n",
              "      <td>Pennsylvania</td>\n",
              "      <td>East</td>\n",
              "      <td>886105.68</td>\n",
              "    </tr>\n",
              "    <tr>\n",
              "      <th>4</th>\n",
              "      <td>Washington</td>\n",
              "      <td>West</td>\n",
              "      <td>862298.69</td>\n",
              "    </tr>\n",
              "    <tr>\n",
              "      <th>5</th>\n",
              "      <td>Illinois</td>\n",
              "      <td>Central</td>\n",
              "      <td>843352.76</td>\n",
              "    </tr>\n",
              "    <tr>\n",
              "      <th>6</th>\n",
              "      <td>Ohio</td>\n",
              "      <td>East</td>\n",
              "      <td>707747.69</td>\n",
              "    </tr>\n",
              "    <tr>\n",
              "      <th>7</th>\n",
              "      <td>Florida</td>\n",
              "      <td>South</td>\n",
              "      <td>635637.78</td>\n",
              "    </tr>\n",
              "    <tr>\n",
              "      <th>8</th>\n",
              "      <td>North Carolina</td>\n",
              "      <td>South</td>\n",
              "      <td>437938.43</td>\n",
              "    </tr>\n",
              "    <tr>\n",
              "      <th>9</th>\n",
              "      <td>Michigan</td>\n",
              "      <td>Central</td>\n",
              "      <td>432428.02</td>\n",
              "    </tr>\n",
              "    <tr>\n",
              "      <th>10</th>\n",
              "      <td>Virginia</td>\n",
              "      <td>South</td>\n",
              "      <td>403947.25</td>\n",
              "    </tr>\n",
              "    <tr>\n",
              "      <th>11</th>\n",
              "      <td>Arizona</td>\n",
              "      <td>West</td>\n",
              "      <td>332928.15</td>\n",
              "    </tr>\n",
              "    <tr>\n",
              "      <th>12</th>\n",
              "      <td>Tennessee</td>\n",
              "      <td>South</td>\n",
              "      <td>270626.18</td>\n",
              "    </tr>\n",
              "    <tr>\n",
              "      <th>13</th>\n",
              "      <td>Georgia</td>\n",
              "      <td>South</td>\n",
              "      <td>267895.57</td>\n",
              "    </tr>\n",
              "    <tr>\n",
              "      <th>14</th>\n",
              "      <td>Indiana</td>\n",
              "      <td>Central</td>\n",
              "      <td>264912.84</td>\n",
              "    </tr>\n",
              "    <tr>\n",
              "      <th>15</th>\n",
              "      <td>Colorado</td>\n",
              "      <td>West</td>\n",
              "      <td>254680.96</td>\n",
              "    </tr>\n",
              "    <tr>\n",
              "      <th>16</th>\n",
              "      <td>Massachusetts</td>\n",
              "      <td>East</td>\n",
              "      <td>221929.34</td>\n",
              "    </tr>\n",
              "    <tr>\n",
              "      <th>17</th>\n",
              "      <td>Oregon</td>\n",
              "      <td>West</td>\n",
              "      <td>212442.50</td>\n",
              "    </tr>\n",
              "    <tr>\n",
              "      <th>18</th>\n",
              "      <td>Kentucky</td>\n",
              "      <td>South</td>\n",
              "      <td>205286.58</td>\n",
              "    </tr>\n",
              "    <tr>\n",
              "      <th>19</th>\n",
              "      <td>New Jersey</td>\n",
              "      <td>East</td>\n",
              "      <td>196939.35</td>\n",
              "    </tr>\n",
              "    <tr>\n",
              "      <th>20</th>\n",
              "      <td>Wisconsin</td>\n",
              "      <td>Central</td>\n",
              "      <td>186075.75</td>\n",
              "    </tr>\n",
              "    <tr>\n",
              "      <th>21</th>\n",
              "      <td>Delaware</td>\n",
              "      <td>East</td>\n",
              "      <td>175340.88</td>\n",
              "    </tr>\n",
              "    <tr>\n",
              "      <th>22</th>\n",
              "      <td>Minnesota</td>\n",
              "      <td>Central</td>\n",
              "      <td>168387.68</td>\n",
              "    </tr>\n",
              "    <tr>\n",
              "      <th>23</th>\n",
              "      <td>Alabama</td>\n",
              "      <td>South</td>\n",
              "      <td>143041.01</td>\n",
              "    </tr>\n",
              "    <tr>\n",
              "      <th>24</th>\n",
              "      <td>Maryland</td>\n",
              "      <td>East</td>\n",
              "      <td>131546.83</td>\n",
              "    </tr>\n",
              "    <tr>\n",
              "      <th>25</th>\n",
              "      <td>Connecticut</td>\n",
              "      <td>East</td>\n",
              "      <td>128414.01</td>\n",
              "    </tr>\n",
              "    <tr>\n",
              "      <th>26</th>\n",
              "      <td>Oklahoma</td>\n",
              "      <td>Central</td>\n",
              "      <td>101223.06</td>\n",
              "    </tr>\n",
              "    <tr>\n",
              "      <th>27</th>\n",
              "      <td>Utah</td>\n",
              "      <td>West</td>\n",
              "      <td>100292.29</td>\n",
              "    </tr>\n",
              "    <tr>\n",
              "      <th>28</th>\n",
              "      <td>Arkansas</td>\n",
              "      <td>South</td>\n",
              "      <td>95158.70</td>\n",
              "    </tr>\n",
              "    <tr>\n",
              "      <th>29</th>\n",
              "      <td>Rhode Island</td>\n",
              "      <td>East</td>\n",
              "      <td>92447.37</td>\n",
              "    </tr>\n",
              "    <tr>\n",
              "      <th>30</th>\n",
              "      <td>Nevada</td>\n",
              "      <td>West</td>\n",
              "      <td>90519.94</td>\n",
              "    </tr>\n",
              "    <tr>\n",
              "      <th>31</th>\n",
              "      <td>South Carolina</td>\n",
              "      <td>South</td>\n",
              "      <td>86100.77</td>\n",
              "    </tr>\n",
              "    <tr>\n",
              "      <th>32</th>\n",
              "      <td>Mississippi</td>\n",
              "      <td>South</td>\n",
              "      <td>85740.48</td>\n",
              "    </tr>\n",
              "    <tr>\n",
              "      <th>33</th>\n",
              "      <td>Missouri</td>\n",
              "      <td>Central</td>\n",
              "      <td>83206.77</td>\n",
              "    </tr>\n",
              "    <tr>\n",
              "      <th>34</th>\n",
              "      <td>Louisiana</td>\n",
              "      <td>South</td>\n",
              "      <td>75064.77</td>\n",
              "    </tr>\n",
              "    <tr>\n",
              "      <th>35</th>\n",
              "      <td>Nebraska</td>\n",
              "      <td>Central</td>\n",
              "      <td>70650.40</td>\n",
              "    </tr>\n",
              "    <tr>\n",
              "      <th>36</th>\n",
              "      <td>New Mexico</td>\n",
              "      <td>West</td>\n",
              "      <td>62484.33</td>\n",
              "    </tr>\n",
              "    <tr>\n",
              "      <th>37</th>\n",
              "      <td>Iowa</td>\n",
              "      <td>Central</td>\n",
              "      <td>59973.77</td>\n",
              "    </tr>\n",
              "    <tr>\n",
              "      <th>38</th>\n",
              "      <td>New Hampshire</td>\n",
              "      <td>East</td>\n",
              "      <td>59719.61</td>\n",
              "    </tr>\n",
              "    <tr>\n",
              "      <th>39</th>\n",
              "      <td>Kansas</td>\n",
              "      <td>Central</td>\n",
              "      <td>58887.31</td>\n",
              "    </tr>\n",
              "    <tr>\n",
              "      <th>40</th>\n",
              "      <td>Idaho</td>\n",
              "      <td>West</td>\n",
              "      <td>52983.87</td>\n",
              "    </tr>\n",
              "    <tr>\n",
              "      <th>41</th>\n",
              "      <td>South Dakota</td>\n",
              "      <td>Central</td>\n",
              "      <td>30554.57</td>\n",
              "    </tr>\n",
              "    <tr>\n",
              "      <th>42</th>\n",
              "      <td>Montana</td>\n",
              "      <td>West</td>\n",
              "      <td>20600.37</td>\n",
              "    </tr>\n",
              "    <tr>\n",
              "      <th>43</th>\n",
              "      <td>Vermont</td>\n",
              "      <td>East</td>\n",
              "      <td>18368.44</td>\n",
              "    </tr>\n",
              "    <tr>\n",
              "      <th>44</th>\n",
              "      <td>Maine</td>\n",
              "      <td>East</td>\n",
              "      <td>18239.70</td>\n",
              "    </tr>\n",
              "    <tr>\n",
              "      <th>45</th>\n",
              "      <td>District of Columbia</td>\n",
              "      <td>East</td>\n",
              "      <td>15420.31</td>\n",
              "    </tr>\n",
              "    <tr>\n",
              "      <th>46</th>\n",
              "      <td>West Virginia</td>\n",
              "      <td>East</td>\n",
              "      <td>11405.48</td>\n",
              "    </tr>\n",
              "    <tr>\n",
              "      <th>47</th>\n",
              "      <td>North Dakota</td>\n",
              "      <td>Central</td>\n",
              "      <td>6113.26</td>\n",
              "    </tr>\n",
              "    <tr>\n",
              "      <th>48</th>\n",
              "      <td>Wyoming</td>\n",
              "      <td>West</td>\n",
              "      <td>2453.28</td>\n",
              "    </tr>\n",
              "  </tbody>\n",
              "</table>\n",
              "</div>"
            ],
            "text/plain": [
              "                   state   region  total_sales\n",
              "0             California     West   3314837.69\n",
              "1               New York     East   1859365.37\n",
              "2                  Texas  Central   1547925.76\n",
              "3           Pennsylvania     East    886105.68\n",
              "4             Washington     West    862298.69\n",
              "5               Illinois  Central    843352.76\n",
              "6                   Ohio     East    707747.69\n",
              "7                Florida    South    635637.78\n",
              "8         North Carolina    South    437938.43\n",
              "9               Michigan  Central    432428.02\n",
              "10              Virginia    South    403947.25\n",
              "11               Arizona     West    332928.15\n",
              "12             Tennessee    South    270626.18\n",
              "13               Georgia    South    267895.57\n",
              "14               Indiana  Central    264912.84\n",
              "15              Colorado     West    254680.96\n",
              "16         Massachusetts     East    221929.34\n",
              "17                Oregon     West    212442.50\n",
              "18              Kentucky    South    205286.58\n",
              "19            New Jersey     East    196939.35\n",
              "20             Wisconsin  Central    186075.75\n",
              "21              Delaware     East    175340.88\n",
              "22             Minnesota  Central    168387.68\n",
              "23               Alabama    South    143041.01\n",
              "24              Maryland     East    131546.83\n",
              "25           Connecticut     East    128414.01\n",
              "26              Oklahoma  Central    101223.06\n",
              "27                  Utah     West    100292.29\n",
              "28              Arkansas    South     95158.70\n",
              "29          Rhode Island     East     92447.37\n",
              "30                Nevada     West     90519.94\n",
              "31        South Carolina    South     86100.77\n",
              "32           Mississippi    South     85740.48\n",
              "33              Missouri  Central     83206.77\n",
              "34             Louisiana    South     75064.77\n",
              "35              Nebraska  Central     70650.40\n",
              "36            New Mexico     West     62484.33\n",
              "37                  Iowa  Central     59973.77\n",
              "38         New Hampshire     East     59719.61\n",
              "39                Kansas  Central     58887.31\n",
              "40                 Idaho     West     52983.87\n",
              "41          South Dakota  Central     30554.57\n",
              "42               Montana     West     20600.37\n",
              "43               Vermont     East     18368.44\n",
              "44                 Maine     East     18239.70\n",
              "45  District of Columbia     East     15420.31\n",
              "46         West Virginia     East     11405.48\n",
              "47          North Dakota  Central      6113.26\n",
              "48               Wyoming     West      2453.28"
            ]
          },
          "execution_count": 18,
          "metadata": {},
          "output_type": "execute_result"
        }
      ],
      "source": [
        "query5 = \"\"\" \n",
        "SELECT \n",
        "    c.state, \n",
        "    c.region, \n",
        "    ROUND(SUM(od.sales), 2) AS total_sales\n",
        "FROM customers c\n",
        "JOIN orders o ON c.customer_id = o.customer_id\n",
        "JOIN order_details od ON o.order_id = od.order_id\n",
        "GROUP BY c.state, c.region\n",
        "ORDER BY total_sales DESC\n",
        "\n",
        "\n",
        "\"\"\"\n",
        "result5 = pd.read_sql(query5, conn)\n",
        "result5"
      ]
    },
    {
      "cell_type": "markdown",
      "id": "9054ab03",
      "metadata": {},
      "source": [
        "### How many orders were shipped late (where Ship Date > Order Date + 3 days)?"
      ]
    },
    {
      "cell_type": "code",
      "execution_count": 19,
      "id": "ec59f25f",
      "metadata": {},
      "outputs": [
        {
          "data": {
            "application/vnd.microsoft.datawrangler.viewer.v0+json": {
              "columns": [
                {
                  "name": "index",
                  "rawType": "int64",
                  "type": "integer"
                },
                {
                  "name": "order_id",
                  "rawType": "object",
                  "type": "string"
                },
                {
                  "name": "order_date",
                  "rawType": "object",
                  "type": "string"
                },
                {
                  "name": "ship_date",
                  "rawType": "object",
                  "type": "string"
                }
              ],
              "ref": "3ab48dbd-d95a-451e-9919-8e5ccf80bfce",
              "rows": [
                [
                  "0",
                  "CA-2013-138688",
                  "2013-06-13 00:00:00",
                  "2013-06-17 00:00:00"
                ],
                [
                  "1",
                  "US-2012-108966",
                  "2012-10-11 00:00:00",
                  "2012-10-18 00:00:00"
                ],
                [
                  "2",
                  "CA-2011-115812",
                  "2011-06-09 00:00:00",
                  "2011-06-14 00:00:00"
                ],
                [
                  "3",
                  "CA-2014-114412",
                  "2014-04-16 00:00:00",
                  "2014-04-21 00:00:00"
                ],
                [
                  "4",
                  "CA-2013-161389",
                  "2013-12-06 00:00:00",
                  "2013-12-11 00:00:00"
                ],
                [
                  "5",
                  "US-2012-118983",
                  "2012-11-22 00:00:00",
                  "2012-11-26 00:00:00"
                ],
                [
                  "6",
                  "CA-2011-105893",
                  "2011-11-11 00:00:00",
                  "2011-11-18 00:00:00"
                ],
                [
                  "7",
                  "CA-2011-143336",
                  "2011-08-27 00:00:00",
                  "2011-09-01 00:00:00"
                ],
                [
                  "8",
                  "CA-2013-137330",
                  "2013-12-10 00:00:00",
                  "2013-12-14 00:00:00"
                ],
                [
                  "9",
                  "CA-2012-106320",
                  "2012-09-25 00:00:00",
                  "2012-09-30 00:00:00"
                ],
                [
                  "10",
                  "CA-2013-121755",
                  "2013-01-16 00:00:00",
                  "2013-01-20 00:00:00"
                ],
                [
                  "11",
                  "US-2012-150630",
                  "2012-09-17 00:00:00",
                  "2012-09-21 00:00:00"
                ],
                [
                  "12",
                  "CA-2014-107727",
                  "2014-10-20 00:00:00",
                  "2014-10-24 00:00:00"
                ],
                [
                  "13",
                  "CA-2012-117415",
                  "2012-12-27 00:00:00",
                  "2012-12-31 00:00:00"
                ],
                [
                  "14",
                  "CA-2014-120999",
                  "2014-09-11 00:00:00",
                  "2014-09-16 00:00:00"
                ],
                [
                  "15",
                  "CA-2013-101343",
                  "2013-07-18 00:00:00",
                  "2013-07-23 00:00:00"
                ],
                [
                  "16",
                  "CA-2014-139619",
                  "2014-09-20 00:00:00",
                  "2014-09-24 00:00:00"
                ],
                [
                  "17",
                  "CA-2011-146703",
                  "2011-10-20 00:00:00",
                  "2011-10-25 00:00:00"
                ],
                [
                  "18",
                  "CA-2013-169194",
                  "2013-06-21 00:00:00",
                  "2013-06-26 00:00:00"
                ],
                [
                  "19",
                  "CA-2012-115742",
                  "2012-04-18 00:00:00",
                  "2012-04-22 00:00:00"
                ],
                [
                  "20",
                  "CA-2013-105816",
                  "2013-12-12 00:00:00",
                  "2013-12-18 00:00:00"
                ],
                [
                  "21",
                  "CA-2012-135545",
                  "2012-11-24 00:00:00",
                  "2012-11-30 00:00:00"
                ],
                [
                  "22",
                  "US-2012-164175",
                  "2012-04-30 00:00:00",
                  "2012-05-05 00:00:00"
                ],
                [
                  "23",
                  "CA-2011-106376",
                  "2011-12-05 00:00:00",
                  "2011-12-10 00:00:00"
                ],
                [
                  "24",
                  "CA-2013-106075",
                  "2013-09-19 00:00:00",
                  "2013-09-24 00:00:00"
                ],
                [
                  "25",
                  "US-2012-134026",
                  "2012-04-26 00:00:00",
                  "2012-05-02 00:00:00"
                ],
                [
                  "26",
                  "US-2011-147606",
                  "2011-11-26 00:00:00",
                  "2011-12-01 00:00:00"
                ],
                [
                  "27",
                  "CA-2011-139451",
                  "2011-10-12 00:00:00",
                  "2011-10-16 00:00:00"
                ],
                [
                  "28",
                  "CA-2012-149734",
                  "2012-09-03 00:00:00",
                  "2012-09-08 00:00:00"
                ],
                [
                  "29",
                  "CA-2014-155558",
                  "2014-10-27 00:00:00",
                  "2014-11-03 00:00:00"
                ],
                [
                  "30",
                  "CA-2013-159695",
                  "2013-04-06 00:00:00",
                  "2013-04-11 00:00:00"
                ],
                [
                  "31",
                  "CA-2013-109806",
                  "2013-09-18 00:00:00",
                  "2013-09-23 00:00:00"
                ],
                [
                  "32",
                  "CA-2012-149587",
                  "2012-01-31 00:00:00",
                  "2012-02-05 00:00:00"
                ],
                [
                  "33",
                  "US-2014-109484",
                  "2014-11-07 00:00:00",
                  "2014-11-13 00:00:00"
                ],
                [
                  "34",
                  "CA-2013-149223",
                  "2013-09-07 00:00:00",
                  "2013-09-12 00:00:00"
                ],
                [
                  "35",
                  "CA-2013-158568",
                  "2013-08-30 00:00:00",
                  "2013-09-03 00:00:00"
                ],
                [
                  "36",
                  "US-2012-156867",
                  "2012-11-13 00:00:00",
                  "2012-11-17 00:00:00"
                ],
                [
                  "37",
                  "CA-2014-119004",
                  "2014-11-24 00:00:00",
                  "2014-11-29 00:00:00"
                ],
                [
                  "38",
                  "CA-2012-129476",
                  "2012-10-15 00:00:00",
                  "2012-10-20 00:00:00"
                ],
                [
                  "39",
                  "CA-2014-146780",
                  "2014-12-26 00:00:00",
                  "2014-12-31 00:00:00"
                ],
                [
                  "40",
                  "CA-2013-128867",
                  "2013-11-04 00:00:00",
                  "2013-11-11 00:00:00"
                ],
                [
                  "41",
                  "CA-2012-110457",
                  "2012-03-02 00:00:00",
                  "2012-03-06 00:00:00"
                ],
                [
                  "42",
                  "US-2012-136476",
                  "2012-04-05 00:00:00",
                  "2012-04-10 00:00:00"
                ],
                [
                  "43",
                  "US-2011-134614",
                  "2011-09-20 00:00:00",
                  "2011-09-25 00:00:00"
                ],
                [
                  "44",
                  "US-2014-107272",
                  "2014-11-06 00:00:00",
                  "2014-11-13 00:00:00"
                ],
                [
                  "45",
                  "US-2013-125969",
                  "2013-11-07 00:00:00",
                  "2013-11-11 00:00:00"
                ],
                [
                  "46",
                  "CA-2013-145583",
                  "2013-10-14 00:00:00",
                  "2013-10-20 00:00:00"
                ],
                [
                  "47",
                  "CA-2014-106180",
                  "2014-09-19 00:00:00",
                  "2014-09-24 00:00:00"
                ],
                [
                  "48",
                  "CA-2014-155376",
                  "2014-12-23 00:00:00",
                  "2014-12-28 00:00:00"
                ],
                [
                  "49",
                  "CA-2012-110744",
                  "2012-09-07 00:00:00",
                  "2012-09-12 00:00:00"
                ]
              ],
              "shape": {
                "columns": 3,
                "rows": 3391
              }
            },
            "text/html": [
              "<div>\n",
              "<style scoped>\n",
              "    .dataframe tbody tr th:only-of-type {\n",
              "        vertical-align: middle;\n",
              "    }\n",
              "\n",
              "    .dataframe tbody tr th {\n",
              "        vertical-align: top;\n",
              "    }\n",
              "\n",
              "    .dataframe thead th {\n",
              "        text-align: right;\n",
              "    }\n",
              "</style>\n",
              "<table border=\"1\" class=\"dataframe\">\n",
              "  <thead>\n",
              "    <tr style=\"text-align: right;\">\n",
              "      <th></th>\n",
              "      <th>order_id</th>\n",
              "      <th>order_date</th>\n",
              "      <th>ship_date</th>\n",
              "    </tr>\n",
              "  </thead>\n",
              "  <tbody>\n",
              "    <tr>\n",
              "      <th>0</th>\n",
              "      <td>CA-2013-138688</td>\n",
              "      <td>2013-06-13 00:00:00</td>\n",
              "      <td>2013-06-17 00:00:00</td>\n",
              "    </tr>\n",
              "    <tr>\n",
              "      <th>1</th>\n",
              "      <td>US-2012-108966</td>\n",
              "      <td>2012-10-11 00:00:00</td>\n",
              "      <td>2012-10-18 00:00:00</td>\n",
              "    </tr>\n",
              "    <tr>\n",
              "      <th>2</th>\n",
              "      <td>CA-2011-115812</td>\n",
              "      <td>2011-06-09 00:00:00</td>\n",
              "      <td>2011-06-14 00:00:00</td>\n",
              "    </tr>\n",
              "    <tr>\n",
              "      <th>3</th>\n",
              "      <td>CA-2014-114412</td>\n",
              "      <td>2014-04-16 00:00:00</td>\n",
              "      <td>2014-04-21 00:00:00</td>\n",
              "    </tr>\n",
              "    <tr>\n",
              "      <th>4</th>\n",
              "      <td>CA-2013-161389</td>\n",
              "      <td>2013-12-06 00:00:00</td>\n",
              "      <td>2013-12-11 00:00:00</td>\n",
              "    </tr>\n",
              "    <tr>\n",
              "      <th>...</th>\n",
              "      <td>...</td>\n",
              "      <td>...</td>\n",
              "      <td>...</td>\n",
              "    </tr>\n",
              "    <tr>\n",
              "      <th>3386</th>\n",
              "      <td>CA-2012-100251</td>\n",
              "      <td>2012-05-17 00:00:00</td>\n",
              "      <td>2012-05-23 00:00:00</td>\n",
              "    </tr>\n",
              "    <tr>\n",
              "      <th>3387</th>\n",
              "      <td>CA-2013-125794</td>\n",
              "      <td>2013-09-30 00:00:00</td>\n",
              "      <td>2013-10-04 00:00:00</td>\n",
              "    </tr>\n",
              "    <tr>\n",
              "      <th>3388</th>\n",
              "      <td>CA-2014-163629</td>\n",
              "      <td>2014-11-18 00:00:00</td>\n",
              "      <td>2014-11-22 00:00:00</td>\n",
              "    </tr>\n",
              "    <tr>\n",
              "      <th>3389</th>\n",
              "      <td>CA-2014-121258</td>\n",
              "      <td>2014-02-27 00:00:00</td>\n",
              "      <td>2014-03-04 00:00:00</td>\n",
              "    </tr>\n",
              "    <tr>\n",
              "      <th>3390</th>\n",
              "      <td>CA-2014-119914</td>\n",
              "      <td>2014-05-05 00:00:00</td>\n",
              "      <td>2014-05-10 00:00:00</td>\n",
              "    </tr>\n",
              "  </tbody>\n",
              "</table>\n",
              "<p>3391 rows × 3 columns</p>\n",
              "</div>"
            ],
            "text/plain": [
              "            order_id           order_date            ship_date\n",
              "0     CA-2013-138688  2013-06-13 00:00:00  2013-06-17 00:00:00\n",
              "1     US-2012-108966  2012-10-11 00:00:00  2012-10-18 00:00:00\n",
              "2     CA-2011-115812  2011-06-09 00:00:00  2011-06-14 00:00:00\n",
              "3     CA-2014-114412  2014-04-16 00:00:00  2014-04-21 00:00:00\n",
              "4     CA-2013-161389  2013-12-06 00:00:00  2013-12-11 00:00:00\n",
              "...              ...                  ...                  ...\n",
              "3386  CA-2012-100251  2012-05-17 00:00:00  2012-05-23 00:00:00\n",
              "3387  CA-2013-125794  2013-09-30 00:00:00  2013-10-04 00:00:00\n",
              "3388  CA-2014-163629  2014-11-18 00:00:00  2014-11-22 00:00:00\n",
              "3389  CA-2014-121258  2014-02-27 00:00:00  2014-03-04 00:00:00\n",
              "3390  CA-2014-119914  2014-05-05 00:00:00  2014-05-10 00:00:00\n",
              "\n",
              "[3391 rows x 3 columns]"
            ]
          },
          "execution_count": 19,
          "metadata": {},
          "output_type": "execute_result"
        }
      ],
      "source": [
        "query6 = \"\"\" \n",
        "SELECT \n",
        "    o.order_id,\n",
        "    o.order_date,\n",
        "    o.ship_date\n",
        "FROM orders o\n",
        "WHERE DATE(o.ship_date) > DATE(o.order_date, '+3 days')\n",
        "\n",
        "\"\"\"\n",
        "result6 = pd.read_sql(query6, conn)\n",
        "result6"
      ]
    },
    {
      "cell_type": "markdown",
      "id": "303521d0",
      "metadata": {},
      "source": [
        "### Which month or year had the highest total sales?"
      ]
    },
    {
      "cell_type": "code",
      "execution_count": 32,
      "id": "6c2cfa60",
      "metadata": {},
      "outputs": [
        {
          "data": {
            "application/vnd.microsoft.datawrangler.viewer.v0+json": {
              "columns": [
                {
                  "name": "index",
                  "rawType": "int64",
                  "type": "integer"
                },
                {
                  "name": "order_month",
                  "rawType": "object",
                  "type": "string"
                },
                {
                  "name": "total_sales",
                  "rawType": "float64",
                  "type": "float"
                },
                {
                  "name": "total_profit",
                  "rawType": "float64",
                  "type": "float"
                }
              ],
              "ref": "db0a8fe1-62dd-4c0b-9ff8-3730e2ca5ca5",
              "rows": [
                [
                  "0",
                  "2011-01",
                  "13946.23",
                  "2446.77"
                ],
                [
                  "1",
                  "2011-02",
                  "4810.56",
                  "865.73"
                ],
                [
                  "2",
                  "2011-03",
                  "55691.01",
                  "498.73"
                ],
                [
                  "3",
                  "2011-04",
                  "28295.35",
                  "3488.84"
                ],
                [
                  "4",
                  "2011-05",
                  "23648.29",
                  "2738.71"
                ],
                [
                  "5",
                  "2011-06",
                  "34595.13",
                  "4976.52"
                ],
                [
                  "6",
                  "2011-07",
                  "33946.39",
                  "-841.48"
                ],
                [
                  "7",
                  "2011-08",
                  "27909.47",
                  "5318.1"
                ],
                [
                  "8",
                  "2011-09",
                  "81777.35",
                  "8328.1"
                ],
                [
                  "9",
                  "2011-10",
                  "31453.39",
                  "3448.26"
                ],
                [
                  "10",
                  "2011-11",
                  "78628.72",
                  "9292.13"
                ],
                [
                  "11",
                  "2011-12",
                  "69545.62",
                  "8983.57"
                ],
                [
                  "12",
                  "2012-01",
                  "18174.08",
                  "-3281.01"
                ],
                [
                  "13",
                  "2012-02",
                  "12210.87",
                  "2821.28"
                ],
                [
                  "14",
                  "2012-03",
                  "38466.8",
                  "9724.67"
                ],
                [
                  "15",
                  "2012-04",
                  "34195.21",
                  "4187.5"
                ],
                [
                  "16",
                  "2012-05",
                  "30131.69",
                  "4667.87"
                ],
                [
                  "17",
                  "2012-06",
                  "24797.29",
                  "3335.56"
                ],
                [
                  "18",
                  "2012-07",
                  "28765.33",
                  "3288.65"
                ],
                [
                  "19",
                  "2012-08",
                  "36898.33",
                  "5355.81"
                ],
                [
                  "20",
                  "2012-09",
                  "64595.92",
                  "8209.16"
                ],
                [
                  "21",
                  "2012-10",
                  "31404.92",
                  "2817.37"
                ],
                [
                  "22",
                  "2012-11",
                  "75972.56",
                  "12474.79"
                ],
                [
                  "23",
                  "2012-12",
                  "74919.52",
                  "8016.97"
                ],
                [
                  "24",
                  "2013-01",
                  "18542.49",
                  "2824.82"
                ],
                [
                  "25",
                  "2013-02",
                  "22867.71",
                  "4996.25"
                ],
                [
                  "26",
                  "2013-03",
                  "51186.22",
                  "3625.27"
                ],
                [
                  "27",
                  "2013-04",
                  "39248.59",
                  "2957.84"
                ],
                [
                  "28",
                  "2013-05",
                  "56691.08",
                  "8627.48"
                ],
                [
                  "29",
                  "2013-06",
                  "39430.44",
                  "4499.58"
                ],
                [
                  "30",
                  "2013-07",
                  "38440.75",
                  "4464.66"
                ],
                [
                  "31",
                  "2013-08",
                  "33265.56",
                  "2328.35"
                ],
                [
                  "32",
                  "2013-09",
                  "72908.11",
                  "9360.49"
                ],
                [
                  "33",
                  "2013-10",
                  "56463.13",
                  "15763.38"
                ],
                [
                  "34",
                  "2013-11",
                  "82192.32",
                  "4376.07"
                ],
                [
                  "35",
                  "2013-12",
                  "97237.42",
                  "17902.73"
                ],
                [
                  "36",
                  "2014-01",
                  "44703.14",
                  "7208.68"
                ],
                [
                  "37",
                  "2014-02",
                  "20283.51",
                  "1605.65"
                ],
                [
                  "38",
                  "2014-03",
                  "53908.96",
                  "12957.9"
                ],
                [
                  "39",
                  "2014-04",
                  "40112.42",
                  "2803.63"
                ],
                [
                  "40",
                  "2014-05",
                  "45651.24",
                  "6274.46"
                ],
                [
                  "41",
                  "2014-06",
                  "48259.75",
                  "8087.67"
                ],
                [
                  "42",
                  "2014-07",
                  "48428.36",
                  "6623.56"
                ],
                [
                  "43",
                  "2014-08",
                  "61516.09",
                  "8894.45"
                ],
                [
                  "44",
                  "2014-09",
                  "90488.72",
                  "11395.44"
                ],
                [
                  "45",
                  "2014-10",
                  "77793.76",
                  "9440.66"
                ],
                [
                  "46",
                  "2014-11",
                  "112326.47",
                  "9682.55"
                ],
                [
                  "47",
                  "2014-12",
                  "90474.6",
                  "8532.87"
                ]
              ],
              "shape": {
                "columns": 3,
                "rows": 48
              }
            },
            "text/html": [
              "<div>\n",
              "<style scoped>\n",
              "    .dataframe tbody tr th:only-of-type {\n",
              "        vertical-align: middle;\n",
              "    }\n",
              "\n",
              "    .dataframe tbody tr th {\n",
              "        vertical-align: top;\n",
              "    }\n",
              "\n",
              "    .dataframe thead th {\n",
              "        text-align: right;\n",
              "    }\n",
              "</style>\n",
              "<table border=\"1\" class=\"dataframe\">\n",
              "  <thead>\n",
              "    <tr style=\"text-align: right;\">\n",
              "      <th></th>\n",
              "      <th>order_month</th>\n",
              "      <th>total_sales</th>\n",
              "      <th>total_profit</th>\n",
              "    </tr>\n",
              "  </thead>\n",
              "  <tbody>\n",
              "    <tr>\n",
              "      <th>0</th>\n",
              "      <td>2011-01</td>\n",
              "      <td>13946.23</td>\n",
              "      <td>2446.77</td>\n",
              "    </tr>\n",
              "    <tr>\n",
              "      <th>1</th>\n",
              "      <td>2011-02</td>\n",
              "      <td>4810.56</td>\n",
              "      <td>865.73</td>\n",
              "    </tr>\n",
              "    <tr>\n",
              "      <th>2</th>\n",
              "      <td>2011-03</td>\n",
              "      <td>55691.01</td>\n",
              "      <td>498.73</td>\n",
              "    </tr>\n",
              "    <tr>\n",
              "      <th>3</th>\n",
              "      <td>2011-04</td>\n",
              "      <td>28295.35</td>\n",
              "      <td>3488.84</td>\n",
              "    </tr>\n",
              "    <tr>\n",
              "      <th>4</th>\n",
              "      <td>2011-05</td>\n",
              "      <td>23648.29</td>\n",
              "      <td>2738.71</td>\n",
              "    </tr>\n",
              "    <tr>\n",
              "      <th>5</th>\n",
              "      <td>2011-06</td>\n",
              "      <td>34595.13</td>\n",
              "      <td>4976.52</td>\n",
              "    </tr>\n",
              "    <tr>\n",
              "      <th>6</th>\n",
              "      <td>2011-07</td>\n",
              "      <td>33946.39</td>\n",
              "      <td>-841.48</td>\n",
              "    </tr>\n",
              "    <tr>\n",
              "      <th>7</th>\n",
              "      <td>2011-08</td>\n",
              "      <td>27909.47</td>\n",
              "      <td>5318.10</td>\n",
              "    </tr>\n",
              "    <tr>\n",
              "      <th>8</th>\n",
              "      <td>2011-09</td>\n",
              "      <td>81777.35</td>\n",
              "      <td>8328.10</td>\n",
              "    </tr>\n",
              "    <tr>\n",
              "      <th>9</th>\n",
              "      <td>2011-10</td>\n",
              "      <td>31453.39</td>\n",
              "      <td>3448.26</td>\n",
              "    </tr>\n",
              "    <tr>\n",
              "      <th>10</th>\n",
              "      <td>2011-11</td>\n",
              "      <td>78628.72</td>\n",
              "      <td>9292.13</td>\n",
              "    </tr>\n",
              "    <tr>\n",
              "      <th>11</th>\n",
              "      <td>2011-12</td>\n",
              "      <td>69545.62</td>\n",
              "      <td>8983.57</td>\n",
              "    </tr>\n",
              "    <tr>\n",
              "      <th>12</th>\n",
              "      <td>2012-01</td>\n",
              "      <td>18174.08</td>\n",
              "      <td>-3281.01</td>\n",
              "    </tr>\n",
              "    <tr>\n",
              "      <th>13</th>\n",
              "      <td>2012-02</td>\n",
              "      <td>12210.87</td>\n",
              "      <td>2821.28</td>\n",
              "    </tr>\n",
              "    <tr>\n",
              "      <th>14</th>\n",
              "      <td>2012-03</td>\n",
              "      <td>38466.80</td>\n",
              "      <td>9724.67</td>\n",
              "    </tr>\n",
              "    <tr>\n",
              "      <th>15</th>\n",
              "      <td>2012-04</td>\n",
              "      <td>34195.21</td>\n",
              "      <td>4187.50</td>\n",
              "    </tr>\n",
              "    <tr>\n",
              "      <th>16</th>\n",
              "      <td>2012-05</td>\n",
              "      <td>30131.69</td>\n",
              "      <td>4667.87</td>\n",
              "    </tr>\n",
              "    <tr>\n",
              "      <th>17</th>\n",
              "      <td>2012-06</td>\n",
              "      <td>24797.29</td>\n",
              "      <td>3335.56</td>\n",
              "    </tr>\n",
              "    <tr>\n",
              "      <th>18</th>\n",
              "      <td>2012-07</td>\n",
              "      <td>28765.33</td>\n",
              "      <td>3288.65</td>\n",
              "    </tr>\n",
              "    <tr>\n",
              "      <th>19</th>\n",
              "      <td>2012-08</td>\n",
              "      <td>36898.33</td>\n",
              "      <td>5355.81</td>\n",
              "    </tr>\n",
              "    <tr>\n",
              "      <th>20</th>\n",
              "      <td>2012-09</td>\n",
              "      <td>64595.92</td>\n",
              "      <td>8209.16</td>\n",
              "    </tr>\n",
              "    <tr>\n",
              "      <th>21</th>\n",
              "      <td>2012-10</td>\n",
              "      <td>31404.92</td>\n",
              "      <td>2817.37</td>\n",
              "    </tr>\n",
              "    <tr>\n",
              "      <th>22</th>\n",
              "      <td>2012-11</td>\n",
              "      <td>75972.56</td>\n",
              "      <td>12474.79</td>\n",
              "    </tr>\n",
              "    <tr>\n",
              "      <th>23</th>\n",
              "      <td>2012-12</td>\n",
              "      <td>74919.52</td>\n",
              "      <td>8016.97</td>\n",
              "    </tr>\n",
              "    <tr>\n",
              "      <th>24</th>\n",
              "      <td>2013-01</td>\n",
              "      <td>18542.49</td>\n",
              "      <td>2824.82</td>\n",
              "    </tr>\n",
              "    <tr>\n",
              "      <th>25</th>\n",
              "      <td>2013-02</td>\n",
              "      <td>22867.71</td>\n",
              "      <td>4996.25</td>\n",
              "    </tr>\n",
              "    <tr>\n",
              "      <th>26</th>\n",
              "      <td>2013-03</td>\n",
              "      <td>51186.22</td>\n",
              "      <td>3625.27</td>\n",
              "    </tr>\n",
              "    <tr>\n",
              "      <th>27</th>\n",
              "      <td>2013-04</td>\n",
              "      <td>39248.59</td>\n",
              "      <td>2957.84</td>\n",
              "    </tr>\n",
              "    <tr>\n",
              "      <th>28</th>\n",
              "      <td>2013-05</td>\n",
              "      <td>56691.08</td>\n",
              "      <td>8627.48</td>\n",
              "    </tr>\n",
              "    <tr>\n",
              "      <th>29</th>\n",
              "      <td>2013-06</td>\n",
              "      <td>39430.44</td>\n",
              "      <td>4499.58</td>\n",
              "    </tr>\n",
              "    <tr>\n",
              "      <th>30</th>\n",
              "      <td>2013-07</td>\n",
              "      <td>38440.75</td>\n",
              "      <td>4464.66</td>\n",
              "    </tr>\n",
              "    <tr>\n",
              "      <th>31</th>\n",
              "      <td>2013-08</td>\n",
              "      <td>33265.56</td>\n",
              "      <td>2328.35</td>\n",
              "    </tr>\n",
              "    <tr>\n",
              "      <th>32</th>\n",
              "      <td>2013-09</td>\n",
              "      <td>72908.11</td>\n",
              "      <td>9360.49</td>\n",
              "    </tr>\n",
              "    <tr>\n",
              "      <th>33</th>\n",
              "      <td>2013-10</td>\n",
              "      <td>56463.13</td>\n",
              "      <td>15763.38</td>\n",
              "    </tr>\n",
              "    <tr>\n",
              "      <th>34</th>\n",
              "      <td>2013-11</td>\n",
              "      <td>82192.32</td>\n",
              "      <td>4376.07</td>\n",
              "    </tr>\n",
              "    <tr>\n",
              "      <th>35</th>\n",
              "      <td>2013-12</td>\n",
              "      <td>97237.42</td>\n",
              "      <td>17902.73</td>\n",
              "    </tr>\n",
              "    <tr>\n",
              "      <th>36</th>\n",
              "      <td>2014-01</td>\n",
              "      <td>44703.14</td>\n",
              "      <td>7208.68</td>\n",
              "    </tr>\n",
              "    <tr>\n",
              "      <th>37</th>\n",
              "      <td>2014-02</td>\n",
              "      <td>20283.51</td>\n",
              "      <td>1605.65</td>\n",
              "    </tr>\n",
              "    <tr>\n",
              "      <th>38</th>\n",
              "      <td>2014-03</td>\n",
              "      <td>53908.96</td>\n",
              "      <td>12957.90</td>\n",
              "    </tr>\n",
              "    <tr>\n",
              "      <th>39</th>\n",
              "      <td>2014-04</td>\n",
              "      <td>40112.42</td>\n",
              "      <td>2803.63</td>\n",
              "    </tr>\n",
              "    <tr>\n",
              "      <th>40</th>\n",
              "      <td>2014-05</td>\n",
              "      <td>45651.24</td>\n",
              "      <td>6274.46</td>\n",
              "    </tr>\n",
              "    <tr>\n",
              "      <th>41</th>\n",
              "      <td>2014-06</td>\n",
              "      <td>48259.75</td>\n",
              "      <td>8087.67</td>\n",
              "    </tr>\n",
              "    <tr>\n",
              "      <th>42</th>\n",
              "      <td>2014-07</td>\n",
              "      <td>48428.36</td>\n",
              "      <td>6623.56</td>\n",
              "    </tr>\n",
              "    <tr>\n",
              "      <th>43</th>\n",
              "      <td>2014-08</td>\n",
              "      <td>61516.09</td>\n",
              "      <td>8894.45</td>\n",
              "    </tr>\n",
              "    <tr>\n",
              "      <th>44</th>\n",
              "      <td>2014-09</td>\n",
              "      <td>90488.72</td>\n",
              "      <td>11395.44</td>\n",
              "    </tr>\n",
              "    <tr>\n",
              "      <th>45</th>\n",
              "      <td>2014-10</td>\n",
              "      <td>77793.76</td>\n",
              "      <td>9440.66</td>\n",
              "    </tr>\n",
              "    <tr>\n",
              "      <th>46</th>\n",
              "      <td>2014-11</td>\n",
              "      <td>112326.47</td>\n",
              "      <td>9682.55</td>\n",
              "    </tr>\n",
              "    <tr>\n",
              "      <th>47</th>\n",
              "      <td>2014-12</td>\n",
              "      <td>90474.60</td>\n",
              "      <td>8532.87</td>\n",
              "    </tr>\n",
              "  </tbody>\n",
              "</table>\n",
              "</div>"
            ],
            "text/plain": [
              "   order_month  total_sales  total_profit\n",
              "0      2011-01     13946.23       2446.77\n",
              "1      2011-02      4810.56        865.73\n",
              "2      2011-03     55691.01        498.73\n",
              "3      2011-04     28295.35       3488.84\n",
              "4      2011-05     23648.29       2738.71\n",
              "5      2011-06     34595.13       4976.52\n",
              "6      2011-07     33946.39       -841.48\n",
              "7      2011-08     27909.47       5318.10\n",
              "8      2011-09     81777.35       8328.10\n",
              "9      2011-10     31453.39       3448.26\n",
              "10     2011-11     78628.72       9292.13\n",
              "11     2011-12     69545.62       8983.57\n",
              "12     2012-01     18174.08      -3281.01\n",
              "13     2012-02     12210.87       2821.28\n",
              "14     2012-03     38466.80       9724.67\n",
              "15     2012-04     34195.21       4187.50\n",
              "16     2012-05     30131.69       4667.87\n",
              "17     2012-06     24797.29       3335.56\n",
              "18     2012-07     28765.33       3288.65\n",
              "19     2012-08     36898.33       5355.81\n",
              "20     2012-09     64595.92       8209.16\n",
              "21     2012-10     31404.92       2817.37\n",
              "22     2012-11     75972.56      12474.79\n",
              "23     2012-12     74919.52       8016.97\n",
              "24     2013-01     18542.49       2824.82\n",
              "25     2013-02     22867.71       4996.25\n",
              "26     2013-03     51186.22       3625.27\n",
              "27     2013-04     39248.59       2957.84\n",
              "28     2013-05     56691.08       8627.48\n",
              "29     2013-06     39430.44       4499.58\n",
              "30     2013-07     38440.75       4464.66\n",
              "31     2013-08     33265.56       2328.35\n",
              "32     2013-09     72908.11       9360.49\n",
              "33     2013-10     56463.13      15763.38\n",
              "34     2013-11     82192.32       4376.07\n",
              "35     2013-12     97237.42      17902.73\n",
              "36     2014-01     44703.14       7208.68\n",
              "37     2014-02     20283.51       1605.65\n",
              "38     2014-03     53908.96      12957.90\n",
              "39     2014-04     40112.42       2803.63\n",
              "40     2014-05     45651.24       6274.46\n",
              "41     2014-06     48259.75       8087.67\n",
              "42     2014-07     48428.36       6623.56\n",
              "43     2014-08     61516.09       8894.45\n",
              "44     2014-09     90488.72      11395.44\n",
              "45     2014-10     77793.76       9440.66\n",
              "46     2014-11    112326.47       9682.55\n",
              "47     2014-12     90474.60       8532.87"
            ]
          },
          "execution_count": 32,
          "metadata": {},
          "output_type": "execute_result"
        }
      ],
      "source": [
        "query7 = \"\"\" \n",
        "SELECT \n",
        "    strftime('%Y-%m', o.order_date) AS order_month,\n",
        "    ROUND(SUM(od.sales), 2) AS total_sales,\n",
        "    ROUND(SUM(od.profit), 2) AS total_profit\n",
        "FROM orders o\n",
        "JOIN order_details od ON o.order_id = od.order_id\n",
        "GROUP BY order_month    \n",
        "\n",
        "\"\"\"\n",
        "result7 = pd.read_sql(query7, conn)\n",
        "result7"
      ]
    },
    {
      "cell_type": "markdown",
      "id": "33bbedf4",
      "metadata": {},
      "source": [
        "### What are the most frequently ordered products?"
      ]
    },
    {
      "cell_type": "code",
      "execution_count": 31,
      "id": "6a1f3f4a",
      "metadata": {},
      "outputs": [
        {
          "data": {
            "application/vnd.microsoft.datawrangler.viewer.v0+json": {
              "columns": [
                {
                  "name": "index",
                  "rawType": "int64",
                  "type": "integer"
                },
                {
                  "name": "subcategory",
                  "rawType": "object",
                  "type": "string"
                },
                {
                  "name": "profit_margin_percentage",
                  "rawType": "float64",
                  "type": "float"
                }
              ],
              "ref": "30fe9ab8-6e5d-433e-9c2f-ea4bc8fbe10c",
              "rows": [
                [
                  "0",
                  "Accessories",
                  "25.06"
                ],
                [
                  "1",
                  "Appliances",
                  "16.9"
                ],
                [
                  "2",
                  "Art",
                  "24.09"
                ],
                [
                  "3",
                  "Binders",
                  "14.38"
                ],
                [
                  "4",
                  "Bookcases",
                  "-2.7"
                ],
                [
                  "5",
                  "Chairs",
                  "8.07"
                ],
                [
                  "6",
                  "Copiers",
                  "37.2"
                ],
                [
                  "7",
                  "Envelopes",
                  "42.27"
                ],
                [
                  "8",
                  "Fasteners",
                  "31.4"
                ],
                [
                  "9",
                  "Furnishings",
                  "14.77"
                ],
                [
                  "10",
                  "Labels",
                  "44.42"
                ],
                [
                  "11",
                  "Machines",
                  "1.29"
                ],
                [
                  "12",
                  "Paper",
                  "43.44"
                ],
                [
                  "13",
                  "Phones",
                  "13.16"
                ],
                [
                  "14",
                  "Storage",
                  "9.52"
                ],
                [
                  "15",
                  "Supplies",
                  "-2.55"
                ],
                [
                  "16",
                  "Tables",
                  "-8.56"
                ]
              ],
              "shape": {
                "columns": 2,
                "rows": 17
              }
            },
            "text/html": [
              "<div>\n",
              "<style scoped>\n",
              "    .dataframe tbody tr th:only-of-type {\n",
              "        vertical-align: middle;\n",
              "    }\n",
              "\n",
              "    .dataframe tbody tr th {\n",
              "        vertical-align: top;\n",
              "    }\n",
              "\n",
              "    .dataframe thead th {\n",
              "        text-align: right;\n",
              "    }\n",
              "</style>\n",
              "<table border=\"1\" class=\"dataframe\">\n",
              "  <thead>\n",
              "    <tr style=\"text-align: right;\">\n",
              "      <th></th>\n",
              "      <th>subcategory</th>\n",
              "      <th>profit_margin_percentage</th>\n",
              "    </tr>\n",
              "  </thead>\n",
              "  <tbody>\n",
              "    <tr>\n",
              "      <th>0</th>\n",
              "      <td>Accessories</td>\n",
              "      <td>25.06</td>\n",
              "    </tr>\n",
              "    <tr>\n",
              "      <th>1</th>\n",
              "      <td>Appliances</td>\n",
              "      <td>16.90</td>\n",
              "    </tr>\n",
              "    <tr>\n",
              "      <th>2</th>\n",
              "      <td>Art</td>\n",
              "      <td>24.09</td>\n",
              "    </tr>\n",
              "    <tr>\n",
              "      <th>3</th>\n",
              "      <td>Binders</td>\n",
              "      <td>14.38</td>\n",
              "    </tr>\n",
              "    <tr>\n",
              "      <th>4</th>\n",
              "      <td>Bookcases</td>\n",
              "      <td>-2.70</td>\n",
              "    </tr>\n",
              "    <tr>\n",
              "      <th>5</th>\n",
              "      <td>Chairs</td>\n",
              "      <td>8.07</td>\n",
              "    </tr>\n",
              "    <tr>\n",
              "      <th>6</th>\n",
              "      <td>Copiers</td>\n",
              "      <td>37.20</td>\n",
              "    </tr>\n",
              "    <tr>\n",
              "      <th>7</th>\n",
              "      <td>Envelopes</td>\n",
              "      <td>42.27</td>\n",
              "    </tr>\n",
              "    <tr>\n",
              "      <th>8</th>\n",
              "      <td>Fasteners</td>\n",
              "      <td>31.40</td>\n",
              "    </tr>\n",
              "    <tr>\n",
              "      <th>9</th>\n",
              "      <td>Furnishings</td>\n",
              "      <td>14.77</td>\n",
              "    </tr>\n",
              "    <tr>\n",
              "      <th>10</th>\n",
              "      <td>Labels</td>\n",
              "      <td>44.42</td>\n",
              "    </tr>\n",
              "    <tr>\n",
              "      <th>11</th>\n",
              "      <td>Machines</td>\n",
              "      <td>1.29</td>\n",
              "    </tr>\n",
              "    <tr>\n",
              "      <th>12</th>\n",
              "      <td>Paper</td>\n",
              "      <td>43.44</td>\n",
              "    </tr>\n",
              "    <tr>\n",
              "      <th>13</th>\n",
              "      <td>Phones</td>\n",
              "      <td>13.16</td>\n",
              "    </tr>\n",
              "    <tr>\n",
              "      <th>14</th>\n",
              "      <td>Storage</td>\n",
              "      <td>9.52</td>\n",
              "    </tr>\n",
              "    <tr>\n",
              "      <th>15</th>\n",
              "      <td>Supplies</td>\n",
              "      <td>-2.55</td>\n",
              "    </tr>\n",
              "    <tr>\n",
              "      <th>16</th>\n",
              "      <td>Tables</td>\n",
              "      <td>-8.56</td>\n",
              "    </tr>\n",
              "  </tbody>\n",
              "</table>\n",
              "</div>"
            ],
            "text/plain": [
              "    subcategory  profit_margin_percentage\n",
              "0   Accessories                     25.06\n",
              "1    Appliances                     16.90\n",
              "2           Art                     24.09\n",
              "3       Binders                     14.38\n",
              "4     Bookcases                     -2.70\n",
              "5        Chairs                      8.07\n",
              "6       Copiers                     37.20\n",
              "7     Envelopes                     42.27\n",
              "8     Fasteners                     31.40\n",
              "9   Furnishings                     14.77\n",
              "10       Labels                     44.42\n",
              "11     Machines                      1.29\n",
              "12        Paper                     43.44\n",
              "13       Phones                     13.16\n",
              "14      Storage                      9.52\n",
              "15     Supplies                     -2.55\n",
              "16       Tables                     -8.56"
            ]
          },
          "execution_count": 31,
          "metadata": {},
          "output_type": "execute_result"
        }
      ],
      "source": [
        "query8 = \"\"\"\n",
        "SELECT \n",
        "    p.subcategory,\n",
        "    ROUND(SUM(od.profit) / SUM(od.sales) * 100, 2) AS profit_margin_percentage\n",
        "FROM products p\n",
        "JOIN order_details od ON p.product_id = od.product_id\n",
        "GROUP BY p.subcategory\n",
        "\n",
        "\"\"\"\n",
        "result8 = pd.read_sql(query8, conn)\n",
        "result8"
      ]
    },
    {
      "cell_type": "markdown",
      "id": "e0e71242",
      "metadata": {},
      "source": [
        "### Which customers placed more than 5 orders total?"
      ]
    },
    {
      "cell_type": "code",
      "execution_count": 30,
      "id": "75085cb6",
      "metadata": {},
      "outputs": [
        {
          "data": {
            "application/vnd.microsoft.datawrangler.viewer.v0+json": {
              "columns": [
                {
                  "name": "index",
                  "rawType": "int64",
                  "type": "integer"
                },
                {
                  "name": "customer_id",
                  "rawType": "object",
                  "type": "string"
                },
                {
                  "name": "customer_name",
                  "rawType": "object",
                  "type": "string"
                },
                {
                  "name": "total_orders",
                  "rawType": "int64",
                  "type": "integer"
                },
                {
                  "name": "total_sales",
                  "rawType": "float64",
                  "type": "float"
                },
                {
                  "name": "total_profit",
                  "rawType": "float64",
                  "type": "float"
                }
              ],
              "ref": "dd8742e6-b1f4-4f0b-98de-1ff9b2a38c3f",
              "rows": [
                [
                  "0",
                  "KL-16645",
                  "Ken Lonsdale",
                  "319",
                  "155927.52",
                  "8875.4"
                ],
                [
                  "1",
                  "SE-20110",
                  "Sanjit Engle",
                  "209",
                  "134303.82",
                  "29157.45"
                ],
                [
                  "2",
                  "CL-12565",
                  "Clay Ludtke",
                  "336",
                  "130566.55",
                  "23205.4"
                ],
                [
                  "3",
                  "AB-10105",
                  "Adrian Barton",
                  "180",
                  "130262.14",
                  "49003.25"
                ],
                [
                  "4",
                  "SC-20095",
                  "Sanjit Chand",
                  "198",
                  "127281.01",
                  "51816.71"
                ],
                [
                  "5",
                  "SM-20320",
                  "Sean Miller",
                  "75",
                  "125215.25",
                  "-9903.7"
                ],
                [
                  "6",
                  "EH-13765",
                  "Edward Hooks",
                  "384",
                  "123730.56",
                  "16722.18"
                ],
                [
                  "7",
                  "GT-14710",
                  "Greg Tran",
                  "290",
                  "118201.2",
                  "21634.27"
                ],
                [
                  "8",
                  "SV-20365",
                  "Seth Vernon",
                  "320",
                  "114709.5",
                  "11994.24"
                ],
                [
                  "9",
                  "JL-15835",
                  "John Lee",
                  "374",
                  "107799.15",
                  "2517.98"
                ],
                [
                  "10",
                  "ZC-21910",
                  "Zuschuss Carroll",
                  "403",
                  "104334.19",
                  "-13417.94"
                ],
                [
                  "11",
                  "PK-19075",
                  "Pete Kriz",
                  "300",
                  "103763.21",
                  "24459.21"
                ],
                [
                  "12",
                  "ME-17320",
                  "Maria Etezadi",
                  "198",
                  "95973.55",
                  "16735.23"
                ],
                [
                  "13",
                  "LA-16780",
                  "Laura Armstrong",
                  "286",
                  "95405.44",
                  "22650.32"
                ],
                [
                  "14",
                  "TC-20980",
                  "Tamara Chand",
                  "60",
                  "95261.09",
                  "44906.62"
                ],
                [
                  "15",
                  "AH-10690",
                  "Anna Häberlin",
                  "276",
                  "94659.53",
                  "15576.2"
                ],
                [
                  "16",
                  "EP-13915",
                  "Emily Phan",
                  "527",
                  "93127.03",
                  "2464.28"
                ],
                [
                  "17",
                  "LC-16885",
                  "Lena Creighton",
                  "276",
                  "91957.51",
                  "15460.16"
                ],
                [
                  "18",
                  "RB-19360",
                  "Raymond Buch",
                  "108",
                  "90704.03",
                  "41856.58"
                ],
                [
                  "19",
                  "CJ-12010",
                  "Caroline Jumper",
                  "160",
                  "89319.79",
                  "6869.93"
                ],
                [
                  "20",
                  "JE-15745",
                  "Joel Eaton",
                  "299",
                  "87890.6",
                  "2883.36"
                ],
                [
                  "21",
                  "JE-15715",
                  "Joe Elijah",
                  "220",
                  "86978.43",
                  "12622.93"
                ],
                [
                  "22",
                  "HM-14860",
                  "Harry Marie",
                  "200",
                  "82367.65",
                  "24379.84"
                ],
                [
                  "23",
                  "PO-18850",
                  "Patrick O'Brill",
                  "242",
                  "82212.11",
                  "423.23"
                ],
                [
                  "24",
                  "KD-16495",
                  "Keith Dawkins",
                  "280",
                  "81812.56",
                  "30386.25"
                ],
                [
                  "25",
                  "BM-11650",
                  "Brian Moss",
                  "319",
                  "80236.04",
                  "24192.06"
                ],
                [
                  "26",
                  "Dp-13240",
                  "Dean percer",
                  "319",
                  "79186.37",
                  "3667.01"
                ],
                [
                  "27",
                  "HL-15040",
                  "Hunter Lopez",
                  "66",
                  "77239.79",
                  "33734.58"
                ],
                [
                  "28",
                  "JD-15895",
                  "Jonathan Doherty",
                  "320",
                  "76108.64",
                  "10502.67"
                ],
                [
                  "29",
                  "MS-17365",
                  "Maribeth Schnelling",
                  "240",
                  "74436.9",
                  "8449.35"
                ],
                [
                  "30",
                  "HW-14935",
                  "Helen Wasserman",
                  "160",
                  "74402.03",
                  "17313.29"
                ],
                [
                  "31",
                  "KF-16285",
                  "Karen Ferguson",
                  "126",
                  "74229.86",
                  "11620.97"
                ],
                [
                  "32",
                  "PP-18955",
                  "Paul Prost",
                  "340",
                  "72526.08",
                  "14950.85"
                ],
                [
                  "33",
                  "JD-16150",
                  "Justin Deggeller",
                  "136",
                  "70624.24",
                  "12956.16"
                ],
                [
                  "34",
                  "WB-21850",
                  "William Brown",
                  "407",
                  "67761.12",
                  "7857.64"
                ],
                [
                  "35",
                  "DR-12940",
                  "Daniel Raglin",
                  "104",
                  "66806.94",
                  "22952.61"
                ],
                [
                  "36",
                  "SM-20950",
                  "Suzanne McNair",
                  "264",
                  "66760.7",
                  "6978.89"
                ],
                [
                  "37",
                  "BF-11170",
                  "Ben Ferrer",
                  "297",
                  "64987.69",
                  "16920.34"
                ],
                [
                  "38",
                  "TB-21400",
                  "Tom Boeckenhauer",
                  "119",
                  "63937.93",
                  "19588.58"
                ],
                [
                  "39",
                  "BD-11320",
                  "Bill Donatelli",
                  "209",
                  "62903.73",
                  "12039.54"
                ],
                [
                  "40",
                  "AB-10060",
                  "Adam Bellavance",
                  "144",
                  "62044.96",
                  "16436.71"
                ],
                [
                  "41",
                  "RP-19390",
                  "Resi Pölking",
                  "300",
                  "61837.01",
                  "5583.0"
                ],
                [
                  "42",
                  "VW-21775",
                  "Victoria Wilson",
                  "180",
                  "61340.38",
                  "-8746.65"
                ],
                [
                  "43",
                  "BB-11545",
                  "Brenda Bowman",
                  "180",
                  "60891.55",
                  "9135.67"
                ],
                [
                  "44",
                  "CB-12025",
                  "Cassandra Brandow",
                  "260",
                  "60761.39",
                  "1502.09"
                ],
                [
                  "45",
                  "CC-12370",
                  "Christopher Conant",
                  "55",
                  "60645.36",
                  "10885.25"
                ],
                [
                  "46",
                  "TS-21370",
                  "Todd Sumrall",
                  "75",
                  "59458.75",
                  "11858.57"
                ],
                [
                  "47",
                  "DR-12880",
                  "Dan Reichenbach",
                  "216",
                  "58752.31",
                  "14776.75"
                ],
                [
                  "48",
                  "TA-21385",
                  "Tom Ashbrook",
                  "40",
                  "58382.48",
                  "18815.15"
                ],
                [
                  "49",
                  "NF-18385",
                  "Natalie Fritzler",
                  "98",
                  "58259.78",
                  "-11871.8"
                ]
              ],
              "shape": {
                "columns": 5,
                "rows": 776
              }
            },
            "text/html": [
              "<div>\n",
              "<style scoped>\n",
              "    .dataframe tbody tr th:only-of-type {\n",
              "        vertical-align: middle;\n",
              "    }\n",
              "\n",
              "    .dataframe tbody tr th {\n",
              "        vertical-align: top;\n",
              "    }\n",
              "\n",
              "    .dataframe thead th {\n",
              "        text-align: right;\n",
              "    }\n",
              "</style>\n",
              "<table border=\"1\" class=\"dataframe\">\n",
              "  <thead>\n",
              "    <tr style=\"text-align: right;\">\n",
              "      <th></th>\n",
              "      <th>customer_id</th>\n",
              "      <th>customer_name</th>\n",
              "      <th>total_orders</th>\n",
              "      <th>total_sales</th>\n",
              "      <th>total_profit</th>\n",
              "    </tr>\n",
              "  </thead>\n",
              "  <tbody>\n",
              "    <tr>\n",
              "      <th>0</th>\n",
              "      <td>KL-16645</td>\n",
              "      <td>Ken Lonsdale</td>\n",
              "      <td>319</td>\n",
              "      <td>155927.52</td>\n",
              "      <td>8875.40</td>\n",
              "    </tr>\n",
              "    <tr>\n",
              "      <th>1</th>\n",
              "      <td>SE-20110</td>\n",
              "      <td>Sanjit Engle</td>\n",
              "      <td>209</td>\n",
              "      <td>134303.82</td>\n",
              "      <td>29157.45</td>\n",
              "    </tr>\n",
              "    <tr>\n",
              "      <th>2</th>\n",
              "      <td>CL-12565</td>\n",
              "      <td>Clay Ludtke</td>\n",
              "      <td>336</td>\n",
              "      <td>130566.55</td>\n",
              "      <td>23205.40</td>\n",
              "    </tr>\n",
              "    <tr>\n",
              "      <th>3</th>\n",
              "      <td>AB-10105</td>\n",
              "      <td>Adrian Barton</td>\n",
              "      <td>180</td>\n",
              "      <td>130262.14</td>\n",
              "      <td>49003.25</td>\n",
              "    </tr>\n",
              "    <tr>\n",
              "      <th>4</th>\n",
              "      <td>SC-20095</td>\n",
              "      <td>Sanjit Chand</td>\n",
              "      <td>198</td>\n",
              "      <td>127281.01</td>\n",
              "      <td>51816.71</td>\n",
              "    </tr>\n",
              "    <tr>\n",
              "      <th>...</th>\n",
              "      <td>...</td>\n",
              "      <td>...</td>\n",
              "      <td>...</td>\n",
              "      <td>...</td>\n",
              "      <td>...</td>\n",
              "    </tr>\n",
              "    <tr>\n",
              "      <th>771</th>\n",
              "      <td>HH-15010</td>\n",
              "      <td>Hilary Holden</td>\n",
              "      <td>6</td>\n",
              "      <td>218.67</td>\n",
              "      <td>86.73</td>\n",
              "    </tr>\n",
              "    <tr>\n",
              "      <th>772</th>\n",
              "      <td>LB-16735</td>\n",
              "      <td>Larry Blacks</td>\n",
              "      <td>9</td>\n",
              "      <td>150.56</td>\n",
              "      <td>55.95</td>\n",
              "    </tr>\n",
              "    <tr>\n",
              "      <th>773</th>\n",
              "      <td>SG-20890</td>\n",
              "      <td>Susan Gilcrest</td>\n",
              "      <td>15</td>\n",
              "      <td>143.84</td>\n",
              "      <td>-11.12</td>\n",
              "    </tr>\n",
              "    <tr>\n",
              "      <th>774</th>\n",
              "      <td>AS-10135</td>\n",
              "      <td>Adrian Shami</td>\n",
              "      <td>6</td>\n",
              "      <td>117.64</td>\n",
              "      <td>43.70</td>\n",
              "    </tr>\n",
              "    <tr>\n",
              "      <th>775</th>\n",
              "      <td>RS-19870</td>\n",
              "      <td>Roy Skaria</td>\n",
              "      <td>6</td>\n",
              "      <td>44.66</td>\n",
              "      <td>19.17</td>\n",
              "    </tr>\n",
              "  </tbody>\n",
              "</table>\n",
              "<p>776 rows × 5 columns</p>\n",
              "</div>"
            ],
            "text/plain": [
              "    customer_id   customer_name  total_orders  total_sales  total_profit\n",
              "0      KL-16645    Ken Lonsdale           319    155927.52       8875.40\n",
              "1      SE-20110    Sanjit Engle           209    134303.82      29157.45\n",
              "2      CL-12565     Clay Ludtke           336    130566.55      23205.40\n",
              "3      AB-10105   Adrian Barton           180    130262.14      49003.25\n",
              "4      SC-20095    Sanjit Chand           198    127281.01      51816.71\n",
              "..          ...             ...           ...          ...           ...\n",
              "771    HH-15010   Hilary Holden             6       218.67         86.73\n",
              "772    LB-16735    Larry Blacks             9       150.56         55.95\n",
              "773    SG-20890  Susan Gilcrest            15       143.84        -11.12\n",
              "774    AS-10135    Adrian Shami             6       117.64         43.70\n",
              "775    RS-19870      Roy Skaria             6        44.66         19.17\n",
              "\n",
              "[776 rows x 5 columns]"
            ]
          },
          "execution_count": 30,
          "metadata": {},
          "output_type": "execute_result"
        }
      ],
      "source": [
        "query9 = \"\"\" \n",
        "SELECT \n",
        "    c.customer_id,\n",
        "    c.customer_name,\n",
        "    COUNT(o.order_id) AS total_orders,\n",
        "    ROUND(SUM(od.sales), 2) AS total_sales,\n",
        "    ROUND(SUM(od.profit), 2) AS total_profit\n",
        "FROM customers c\n",
        "JOIN orders o ON c.customer_id = o.customer_id\n",
        "JOIN order_details od ON o.order_id = od.order_id\n",
        "GROUP BY c.customer_id, c.customer_name\n",
        "HAVING total_orders > 5\n",
        "ORDER BY total_sales DESC\n",
        "\"\"\"\n",
        "result9 = pd.read_sql(query9, conn)\n",
        "result9"
      ]
    },
    {
      "cell_type": "markdown",
      "id": "60e76b8e",
      "metadata": {},
      "source": [
        "### What’s the profit margin (profit ÷ sales) by category or segment?"
      ]
    },
    {
      "cell_type": "code",
      "execution_count": 29,
      "metadata": {},
      "outputs": [
        {
          "data": {
            "application/vnd.microsoft.datawrangler.viewer.v0+json": {
              "columns": [
                {
                  "name": "index",
                  "rawType": "int64",
                  "type": "integer"
                },
                {
                  "name": "category",
                  "rawType": "object",
                  "type": "string"
                },
                {
                  "name": "subcategory",
                  "rawType": "object",
                  "type": "string"
                },
                {
                  "name": "total_sales",
                  "rawType": "float64",
                  "type": "float"
                },
                {
                  "name": "total_profit",
                  "rawType": "float64",
                  "type": "float"
                },
                {
                  "name": "profit_margin_percentage",
                  "rawType": "float64",
                  "type": "float"
                },
                {
                  "name": "avg_discount",
                  "rawType": "float64",
                  "type": "float"
                }
              ],
              "ref": "1a71f40b-1ded-4491-bad3-c9ab617bcda5",
              "rows": [
                [
                  "0",
                  "Office Supplies",
                  "Labels",
                  "12486.31",
                  "5546.25",
                  "44.42",
                  "0.07"
                ],
                [
                  "1",
                  "Office Supplies",
                  "Paper",
                  "85155.02",
                  "36994.53",
                  "43.44",
                  "0.08"
                ],
                [
                  "2",
                  "Office Supplies",
                  "Envelopes",
                  "16476.4",
                  "6964.18",
                  "42.27",
                  "0.08"
                ],
                [
                  "3",
                  "Technology",
                  "Copiers",
                  "149528.03",
                  "55617.82",
                  "37.2",
                  "0.16"
                ],
                [
                  "4",
                  "Technology",
                  "Accessories",
                  "192960.03",
                  "48359.05",
                  "25.06",
                  "0.08"
                ],
                [
                  "5",
                  "Office Supplies",
                  "Art",
                  "27199.74",
                  "6551.56",
                  "24.09",
                  "0.07"
                ],
                [
                  "6",
                  "Office Supplies",
                  "Appliances",
                  "109543.01",
                  "18514.49",
                  "16.9",
                  "0.16"
                ],
                [
                  "7",
                  "Furniture",
                  "Furnishings",
                  "98626.35",
                  "14569.59",
                  "14.77",
                  "0.14"
                ],
                [
                  "8",
                  "Office Supplies",
                  "Binders",
                  "211231.72",
                  "30373.2",
                  "14.38",
                  "0.37"
                ],
                [
                  "9",
                  "Technology",
                  "Phones",
                  "356702.35",
                  "46936.19",
                  "13.16",
                  "0.16"
                ],
                [
                  "10",
                  "Office Supplies",
                  "Storage",
                  "224958.56",
                  "21408.7",
                  "9.52",
                  "0.08"
                ],
                [
                  "11",
                  "Furniture",
                  "Chairs",
                  "330891.13",
                  "26707.65",
                  "8.07",
                  "0.17"
                ],
                [
                  "12",
                  "Technology",
                  "Machines",
                  "194442.87",
                  "2502.64",
                  "1.29",
                  "0.31"
                ],
                [
                  "13",
                  "Office Supplies",
                  "Supplies",
                  "46673.54",
                  "-1189.1",
                  "-2.55",
                  "0.08"
                ],
                [
                  "14",
                  "Furniture",
                  "Bookcases",
                  "127801.64",
                  "-3452.87",
                  "-2.7",
                  "0.21"
                ],
                [
                  "15",
                  "Furniture",
                  "Tables",
                  "206965.53",
                  "-17725.48",
                  "-8.56",
                  "0.26"
                ]
              ],
              "shape": {
                "columns": 6,
                "rows": 16
              }
            },
            "text/html": [
              "<div>\n",
              "<style scoped>\n",
              "    .dataframe tbody tr th:only-of-type {\n",
              "        vertical-align: middle;\n",
              "    }\n",
              "\n",
              "    .dataframe tbody tr th {\n",
              "        vertical-align: top;\n",
              "    }\n",
              "\n",
              "    .dataframe thead th {\n",
              "        text-align: right;\n",
              "    }\n",
              "</style>\n",
              "<table border=\"1\" class=\"dataframe\">\n",
              "  <thead>\n",
              "    <tr style=\"text-align: right;\">\n",
              "      <th></th>\n",
              "      <th>category</th>\n",
              "      <th>subcategory</th>\n",
              "      <th>total_sales</th>\n",
              "      <th>total_profit</th>\n",
              "      <th>profit_margin_percentage</th>\n",
              "      <th>avg_discount</th>\n",
              "    </tr>\n",
              "  </thead>\n",
              "  <tbody>\n",
              "    <tr>\n",
              "      <th>0</th>\n",
              "      <td>Office Supplies</td>\n",
              "      <td>Labels</td>\n",
              "      <td>12486.31</td>\n",
              "      <td>5546.25</td>\n",
              "      <td>44.42</td>\n",
              "      <td>0.07</td>\n",
              "    </tr>\n",
              "    <tr>\n",
              "      <th>1</th>\n",
              "      <td>Office Supplies</td>\n",
              "      <td>Paper</td>\n",
              "      <td>85155.02</td>\n",
              "      <td>36994.53</td>\n",
              "      <td>43.44</td>\n",
              "      <td>0.08</td>\n",
              "    </tr>\n",
              "    <tr>\n",
              "      <th>2</th>\n",
              "      <td>Office Supplies</td>\n",
              "      <td>Envelopes</td>\n",
              "      <td>16476.40</td>\n",
              "      <td>6964.18</td>\n",
              "      <td>42.27</td>\n",
              "      <td>0.08</td>\n",
              "    </tr>\n",
              "    <tr>\n",
              "      <th>3</th>\n",
              "      <td>Technology</td>\n",
              "      <td>Copiers</td>\n",
              "      <td>149528.03</td>\n",
              "      <td>55617.82</td>\n",
              "      <td>37.20</td>\n",
              "      <td>0.16</td>\n",
              "    </tr>\n",
              "    <tr>\n",
              "      <th>4</th>\n",
              "      <td>Technology</td>\n",
              "      <td>Accessories</td>\n",
              "      <td>192960.03</td>\n",
              "      <td>48359.05</td>\n",
              "      <td>25.06</td>\n",
              "      <td>0.08</td>\n",
              "    </tr>\n",
              "    <tr>\n",
              "      <th>5</th>\n",
              "      <td>Office Supplies</td>\n",
              "      <td>Art</td>\n",
              "      <td>27199.74</td>\n",
              "      <td>6551.56</td>\n",
              "      <td>24.09</td>\n",
              "      <td>0.07</td>\n",
              "    </tr>\n",
              "    <tr>\n",
              "      <th>6</th>\n",
              "      <td>Office Supplies</td>\n",
              "      <td>Appliances</td>\n",
              "      <td>109543.01</td>\n",
              "      <td>18514.49</td>\n",
              "      <td>16.90</td>\n",
              "      <td>0.16</td>\n",
              "    </tr>\n",
              "    <tr>\n",
              "      <th>7</th>\n",
              "      <td>Furniture</td>\n",
              "      <td>Furnishings</td>\n",
              "      <td>98626.35</td>\n",
              "      <td>14569.59</td>\n",
              "      <td>14.77</td>\n",
              "      <td>0.14</td>\n",
              "    </tr>\n",
              "    <tr>\n",
              "      <th>8</th>\n",
              "      <td>Office Supplies</td>\n",
              "      <td>Binders</td>\n",
              "      <td>211231.72</td>\n",
              "      <td>30373.20</td>\n",
              "      <td>14.38</td>\n",
              "      <td>0.37</td>\n",
              "    </tr>\n",
              "    <tr>\n",
              "      <th>9</th>\n",
              "      <td>Technology</td>\n",
              "      <td>Phones</td>\n",
              "      <td>356702.35</td>\n",
              "      <td>46936.19</td>\n",
              "      <td>13.16</td>\n",
              "      <td>0.16</td>\n",
              "    </tr>\n",
              "    <tr>\n",
              "      <th>10</th>\n",
              "      <td>Office Supplies</td>\n",
              "      <td>Storage</td>\n",
              "      <td>224958.56</td>\n",
              "      <td>21408.70</td>\n",
              "      <td>9.52</td>\n",
              "      <td>0.08</td>\n",
              "    </tr>\n",
              "    <tr>\n",
              "      <th>11</th>\n",
              "      <td>Furniture</td>\n",
              "      <td>Chairs</td>\n",
              "      <td>330891.13</td>\n",
              "      <td>26707.65</td>\n",
              "      <td>8.07</td>\n",
              "      <td>0.17</td>\n",
              "    </tr>\n",
              "    <tr>\n",
              "      <th>12</th>\n",
              "      <td>Technology</td>\n",
              "      <td>Machines</td>\n",
              "      <td>194442.87</td>\n",
              "      <td>2502.64</td>\n",
              "      <td>1.29</td>\n",
              "      <td>0.31</td>\n",
              "    </tr>\n",
              "    <tr>\n",
              "      <th>13</th>\n",
              "      <td>Office Supplies</td>\n",
              "      <td>Supplies</td>\n",
              "      <td>46673.54</td>\n",
              "      <td>-1189.10</td>\n",
              "      <td>-2.55</td>\n",
              "      <td>0.08</td>\n",
              "    </tr>\n",
              "    <tr>\n",
              "      <th>14</th>\n",
              "      <td>Furniture</td>\n",
              "      <td>Bookcases</td>\n",
              "      <td>127801.64</td>\n",
              "      <td>-3452.87</td>\n",
              "      <td>-2.70</td>\n",
              "      <td>0.21</td>\n",
              "    </tr>\n",
              "    <tr>\n",
              "      <th>15</th>\n",
              "      <td>Furniture</td>\n",
              "      <td>Tables</td>\n",
              "      <td>206965.53</td>\n",
              "      <td>-17725.48</td>\n",
              "      <td>-8.56</td>\n",
              "      <td>0.26</td>\n",
              "    </tr>\n",
              "  </tbody>\n",
              "</table>\n",
              "</div>"
            ],
            "text/plain": [
              "           category  subcategory  total_sales  total_profit  \\\n",
              "0   Office Supplies       Labels     12486.31       5546.25   \n",
              "1   Office Supplies        Paper     85155.02      36994.53   \n",
              "2   Office Supplies    Envelopes     16476.40       6964.18   \n",
              "3        Technology      Copiers    149528.03      55617.82   \n",
              "4        Technology  Accessories    192960.03      48359.05   \n",
              "5   Office Supplies          Art     27199.74       6551.56   \n",
              "6   Office Supplies   Appliances    109543.01      18514.49   \n",
              "7         Furniture  Furnishings     98626.35      14569.59   \n",
              "8   Office Supplies      Binders    211231.72      30373.20   \n",
              "9        Technology       Phones    356702.35      46936.19   \n",
              "10  Office Supplies      Storage    224958.56      21408.70   \n",
              "11        Furniture       Chairs    330891.13      26707.65   \n",
              "12       Technology     Machines    194442.87       2502.64   \n",
              "13  Office Supplies     Supplies     46673.54      -1189.10   \n",
              "14        Furniture    Bookcases    127801.64      -3452.87   \n",
              "15        Furniture       Tables    206965.53     -17725.48   \n",
              "\n",
              "    profit_margin_percentage  avg_discount  \n",
              "0                      44.42          0.07  \n",
              "1                      43.44          0.08  \n",
              "2                      42.27          0.08  \n",
              "3                      37.20          0.16  \n",
              "4                      25.06          0.08  \n",
              "5                      24.09          0.07  \n",
              "6                      16.90          0.16  \n",
              "7                      14.77          0.14  \n",
              "8                      14.38          0.37  \n",
              "9                      13.16          0.16  \n",
              "10                      9.52          0.08  \n",
              "11                      8.07          0.17  \n",
              "12                      1.29          0.31  \n",
              "13                     -2.55          0.08  \n",
              "14                     -2.70          0.21  \n",
              "15                     -8.56          0.26  "
            ]
          },
          "execution_count": 29,
          "metadata": {},
          "output_type": "execute_result"
        }
      ],
      "source": [
        "query10 = \"\"\" \n",
        "SELECT\n",
        "    p.category,\n",
        "    p.subcategory,\n",
        "    ROUND(SUM(od.sales), 2) AS total_sales,\n",
        "    ROUND(SUM(od.profit), 2) AS total_profit,\n",
        "    ROUND(SUM(od.profit) * 100.0 / SUM(od.sales), 2) AS profit_margin_percentage,\n",
        "    ROUND(AVG(od.discount), 2) AS avg_discount\n",
        "FROM products p\n",
        "JOIN order_details od ON p.product_id = od.product_id\n",
        "GROUP BY p.category, p.subcategory\n",
        "HAVING total_sales > 10000\n",
        "ORDER BY profit_margin_percentage DESC\n",
        "\n",
        "\n",
        "\n",
        "\"\"\"\n",
        "result10 = pd.read_sql(query10, conn)\n",
        "result10"
      ]
    },
    {
      "cell_type": "markdown",
      "metadata": {},
      "source": [
        "### 5) Visualize it!\n",
        "\n",
        "From your ten results, select at least 4 to utilize in a meaningful visualization. "
      ]
    },
    {
      "cell_type": "code",
      "execution_count": 28,
      "id": "90a32f14",
      "metadata": {},
      "outputs": [
        {
          "data": {
            "image/png": "[encoded data removed]",
            "text/plain": [
              "<Figure size 1000x600 with 1 Axes>"
            ]
          },
          "metadata": {},
          "output_type": "display_data"
        }
      ],
      "source": [
        "# example using result1\n",
        "plt.figure(figsize=(10,6))\n",
        "colors = [\"#a7adaa\", \"#a7adaa\", \"#f74141\" ]\n",
        "sns.barplot(result1, x='customer_category', y='total_sales', palette=colors, hue='customer_category', legend=False)\n",
        "plt.title('Small Offices, Smaller Sales: The Home Office Gap',fontsize=18)\n",
        "plt.xlabel(None)\n",
        "plt.ylabel('Total Sales ($USD)')\n",
        "\n",
        "#for those wondering how to get rid of scientific notation! Set style to plain:\n",
        "plt.ticklabel_format(style='plain', axis='y')\n",
        "\n",
        "#mticker is a great library for helping tick mark formatting, such as adding commas and dollar signs in this case\n",
        "ax = plt.gca()\n",
        "ax.yaxis.set_major_formatter(mticker.FuncFormatter(lambda x, _: f'${x:,.0f}'))\n",
        "\n",
        "#using the seaborn library, despining is way easier!\n",
        "sns.despine()\n",
        "plt.show()\n"
      ]
    },
    {
      "cell_type": "code",
      "execution_count": null,
      "id": "ff61fd84",
      "metadata": {},
      "outputs": [
        {
          "name": "stderr",
          "output_type": "stream",
          "text": [
            "C:\\Users\\jblev\\AppData\\Local\\Temp\\ipykernel_21696\\1134620039.py:3: FutureWarning: \n",
            "\n",
            "Passing `palette` without assigning `hue` is deprecated and will be removed in v0.14.0. Assign the `x` variable to `hue` and set `legend=False` for the same effect.\n",
            "\n",
            "  sns.barplot(\n"
          ]
        },
        {
          "data": {
            "image/png": "[encoded data removed]",
            "text/plain": [
              "<Figure size 800x500 with 1 Axes>"
            ]
          },
          "metadata": {},
          "output_type": "display_data"
        }
      ],
      "source": [
        "# visualization three code here\n",
        "plt.figure(figsize=(8, 5))\n",
        "sns.barplot(\n",
        "    data=result10, \n",
        "    x='category',\n",
        "    y='avg_discount',\n",
        "    palette='pastel'\n",
        ")\n",
        "\n",
        "plt.title('Average Discount by Category', fontsize=14)\n",
        "plt.xlabel('Category')\n",
        "plt.ylabel('Average Discount')\n",
        "plt.tight_layout()\n",
        "plt.show()"
      ]
    },
    {
      "cell_type": "code",
      "execution_count": 41,
      "id": "220072ab",
      "metadata": {},
      "outputs": [
        {
          "data": {
            "image/png": "[encoded data removed]",
            "text/plain": [
              "<Figure size 800x800 with 1 Axes>"
            ]
          },
          "metadata": {},
          "output_type": "display_data"
        }
      ],
      "source": [
        "# visualization three code here\n",
        "region_sales = df.groupby('Region')['Sales'].sum()\n",
        "\n",
        "# Pie plot\n",
        "plt.figure(figsize=(8, 8))\n",
        "plt.pie(region_sales, labels=region_sales.index, autopct='%1.1f%%', startangle=140)\n",
        "plt.title(\"Sales Distribution by Region\", fontsize=16)\n",
        "plt.axis('equal')  # Make it a circle\n",
        "plt.show()"
      ]
    },
    {
      "cell_type": "code",
      "execution_count": null,
      "id": "4ad7d123",
      "metadata": {},
      "outputs": [
        {
          "name": "stderr",
          "output_type": "stream",
          "text": [
            "C:\\Users\\jblev\\AppData\\Local\\Temp\\ipykernel_11464\\3148942900.py:4: FutureWarning: \n",
            "\n",
            "The `ci` parameter is deprecated. Use `errorbar=None` for the same effect.\n",
            "\n",
            "  sns.barplot(\n",
            "C:\\Users\\jblev\\AppData\\Local\\Temp\\ipykernel_11464\\3148942900.py:4: FutureWarning: \n",
            "\n",
            "Passing `palette` without assigning `hue` is deprecated and will be removed in v0.14.0. Assign the `x` variable to `hue` and set `legend=False` for the same effect.\n",
            "\n",
            "  sns.barplot(\n"
          ]
        },
        {
          "data": {
            "image/png": "[encoded data removed]",
            "text/plain": [
              "<Figure size 800x500 with 1 Axes>"
            ]
          },
          "metadata": {},
          "output_type": "display_data"
        }
      ],
      "source": [
        "# visualization three code here\n",
        "\n",
        "plt.figure(figsize=(8, 5))\n",
        "sns.barplot(\n",
        "    data=result10,\n",
        "    x='category',\n",
        "    y='total_sales',\n",
        "    estimator=sum,\n",
        "    ci=None,\n",
        "    palette='Blues'\n",
        ")\n",
        "plt.title('Total Sales by Category', fontsize=14)\n",
        "plt.xlabel('Category')\n",
        "plt.ylabel('Total Sales ($)')\n",
        "plt.tight_layout()\n",
        "plt.show()"
      ]
    },
    {
      "cell_type": "code",
      "execution_count": null,
      "id": "98384a66",
      "metadata": {},
      "outputs": [
        {
          "name": "stderr",
          "output_type": "stream",
          "text": [
            "C:\\Users\\jblev\\AppData\\Local\\Temp\\ipykernel_11464\\137311013.py:5: FutureWarning: \n",
            "\n",
            "Passing `palette` without assigning `hue` is deprecated and will be removed in v0.14.0. Assign the `x` variable to `hue` and set `legend=False` for the same effect.\n",
            "\n",
            "  sns.boxplot(\n"
          ]
        },
        {
          "data": {
            "image/png": "[encoded data removed]",
            "text/plain": [
              "<Figure size 800x600 with 1 Axes>"
            ]
          },
          "metadata": {},
          "output_type": "display_data"
        }
      ],
      "source": [
        "# visualization three code here\n",
        "\n",
        "\n",
        "plt.figure(figsize=(8, 6))\n",
        "sns.boxplot(\n",
        "    data=result10,\n",
        "    x='category',\n",
        "    y='avg_discount',\n",
        "    palette='Pastel1'\n",
        ")\n",
        "plt.title('Discount Distribution by Category', fontsize=14)\n",
        "plt.xlabel('Category')\n",
        "plt.ylabel('Average Discount')\n",
        "plt.tight_layout()\n",
        "plt.show()"
      ]
    },
    {
      "cell_type": "code",
      "execution_count": null,
      "id": "3df0a408",
      "metadata": {},
      "outputs": [
        {
          "data": {
            "image/png": "[encoded data removed]",
            "text/plain": [
              "<Figure size 1200x600 with 1 Axes>"
            ]
          },
          "metadata": {},
          "output_type": "display_data"
        }
      ],
      "source": [
        "# Group sales by month\n",
        "df['Order Date'] = pd.to_datetime(df['Order Date']) \n",
        "df['Month'] = df['Order Date'].dt.to_period('M').astype(str)\n",
        "\n",
        "monthly_sales = df.groupby('Month')['Sales'].sum().reset_index()\n",
        "\n",
        "plt.figure(figsize=(12, 6))\n",
        "sns.lineplot(data=monthly_sales, x='Month', y='Sales', marker='o')\n",
        "plt.title(\"Monthly Sales Trend\", fontsize=16)\n",
        "plt.xlabel(\"Month\")\n",
        "plt.ylabel(\"Total Sales ($)\")\n",
        "plt.xticks(rotation=45)\n",
        "plt.tight_layout()\n",
        "plt.show()"
      ]
    }
  ],
  "metadata": {
    "kernelspec": {
      "display_name": "venv",
      "language": "python",
      "name": "python3"
    },
    "language_info": {
      "codemirror_mode": {
        "name": "ipython",
        "version": 3
      },
      "file_extension": ".py",
      "mimetype": "text/x-python",
      "name": "python",
      "nbconvert_exporter": "python",
      "pygments_lexer": "ipython3",
      "version": "3.13.5"
    }
  },
  "nbformat": 4,
  "nbformat_minor": 5
}
